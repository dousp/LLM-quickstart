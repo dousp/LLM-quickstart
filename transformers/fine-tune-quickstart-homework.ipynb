{
 "cells": [
  {
   "cell_type": "markdown",
   "id": "90c6730f-5d76-450b-9788-ec883d024f57",
   "metadata": {
    "tags": []
   },
   "source": [
    "# Homework: 使用完整的 YelpReviewFull 数据集训练"
   ]
  },
  {
   "cell_type": "markdown",
   "id": "710a7ccc-333a-4875-b061-515b183a7360",
   "metadata": {
    "tags": []
   },
   "source": [
    "## 公共"
   ]
  },
  {
   "cell_type": "code",
   "execution_count": 1,
   "id": "10cf1b0f-f062-49c3-bc54-65c0a59c2fe2",
   "metadata": {
    "ExecutionIndicator": {
     "show": false
    },
    "execution": {
     "iopub.execute_input": "2024-02-16T13:19:05.348947Z",
     "iopub.status.busy": "2024-02-16T13:19:05.348590Z",
     "iopub.status.idle": "2024-02-16T13:19:05.355058Z",
     "shell.execute_reply": "2024-02-16T13:19:05.354342Z",
     "shell.execute_reply.started": "2024-02-16T13:19:05.348916Z"
    },
    "tags": []
   },
   "outputs": [],
   "source": [
    "bert_base_cased=\"/mnt/workspace/models/google-bert/bert-base-cased\"\n",
    "yelp_review_full=\"/mnt/workspace/dataset/yelp_review_full\"\n",
    "output_model_dir=\"/mnt/workspace/models/bert-base-cased-finetune-yelp\"\n",
    "max_length==512"
   ]
  },
  {
   "cell_type": "markdown",
   "id": "aa0b1e12-1921-4438-8d5d-9760a629dcfe",
   "metadata": {
    "tags": []
   },
   "source": [
    "## 数据集"
   ]
  },
  {
   "cell_type": "code",
   "execution_count": 135,
   "id": "6dc45997-e391-456f-b0b9-d3193b0f6a9d",
   "metadata": {
    "ExecutionIndicator": {
     "show": false
    },
    "execution": {
     "iopub.execute_input": "2024-02-16T12:45:07.019415Z",
     "iopub.status.busy": "2024-02-16T12:45:07.019056Z",
     "iopub.status.idle": "2024-02-16T12:45:07.022923Z",
     "shell.execute_reply": "2024-02-16T12:45:07.022242Z",
     "shell.execute_reply.started": "2024-02-16T12:45:07.019388Z"
    },
    "tags": []
   },
   "outputs": [],
   "source": [
    "import random\n",
    "import pandas as pd\n",
    "import datasets\n",
    "from IPython.display import display, HTML\n",
    "\n",
    "# import os\n",
    "# os.environ['HF_ENDPOINT'] = 'https://hf-mirror.com'\n",
    "\n",
    "def show_random_elements(dataset, num_examples=10):\n",
    "    assert num_examples <= len(dataset), \"Can't pick more elements than there are in the dataset.\"\n",
    "    picks = []\n",
    "    for _ in range(num_examples):\n",
    "        pick = random.randint(0, len(dataset)-1)\n",
    "        while pick in picks:\n",
    "            pick = random.randint(0, len(dataset)-1)\n",
    "        picks.append(pick)\n",
    "    \n",
    "    df = pd.DataFrame(dataset[picks])\n",
    "    for column, typ in dataset.features.items():\n",
    "        if isinstance(typ, datasets.ClassLabel):\n",
    "            df[column] = df[column].transform(lambda i: typ.names[i])\n",
    "    display(HTML(df.to_html()))"
   ]
  },
  {
   "cell_type": "code",
   "execution_count": 75,
   "id": "bbf72d6c-7ea5-4ee1-969a-c5060b9cb2d4",
   "metadata": {
    "ExecutionIndicator": {
     "show": false
    },
    "execution": {
     "iopub.execute_input": "2024-02-16T11:45:40.700863Z",
     "iopub.status.busy": "2024-02-16T11:45:40.700493Z",
     "iopub.status.idle": "2024-02-16T11:45:40.730597Z",
     "shell.execute_reply": "2024-02-16T11:45:40.730015Z",
     "shell.execute_reply.started": "2024-02-16T11:45:40.700838Z"
    },
    "scrolled": true,
    "tags": []
   },
   "outputs": [],
   "source": [
    "from datasets import load_dataset\n",
    "\n",
    "dataset = load_dataset(yelp_review_full)"
   ]
  },
  {
   "cell_type": "code",
   "execution_count": null,
   "id": "ec6fc806-1395-42dd-8121-a6e98a95cf01",
   "metadata": {
    "tags": []
   },
   "outputs": [],
   "source": [
    "dataset"
   ]
  },
  {
   "cell_type": "code",
   "execution_count": null,
   "id": "c94ad529-1604-48bd-8c8d-aa2f3bca6200",
   "metadata": {
    "ExecutionIndicator": {
     "show": true
    },
    "tags": []
   },
   "outputs": [],
   "source": [
    "dataset[\"train\"][12]"
   ]
  },
  {
   "cell_type": "code",
   "execution_count": null,
   "id": "1af560b6-7d21-499e-9b82-114be371a98a",
   "metadata": {
    "ExecutionIndicator": {
     "show": true
    },
    "tags": []
   },
   "outputs": [],
   "source": [
    "show_random_elements(dataset[\"train\"],3)"
   ]
  },
  {
   "cell_type": "markdown",
   "id": "c9df7cd0-23cd-458f-b2b5-f025c3b9fe62",
   "metadata": {
    "tags": []
   },
   "source": [
    "## 预处理数据"
   ]
  },
  {
   "cell_type": "markdown",
   "id": "8bbbb297-9c16-46eb-ac40-7c91dc791036",
   "metadata": {
    "jp-MarkdownHeadingCollapsed": true,
    "tags": []
   },
   "source": [
    "### 预处理"
   ]
  },
  {
   "cell_type": "code",
   "execution_count": null,
   "id": "8bf2b342-e1dd-4ab6-ad57-28eb2513ae38",
   "metadata": {
    "ExecutionIndicator": {
     "show": true
    },
    "tags": []
   },
   "outputs": [],
   "source": [
    "from transformers import AutoTokenizer\n",
    "\n",
    "tokenizer = AutoTokenizer.from_pretrained(bert_base_cased)\n",
    "\n",
    "\n",
    "def tokenize_function(examples):\n",
    "    return tokenizer(examples[\"text\"], padding=\"max_length\", truncation=True,max_length=max_length)\n",
    "\n",
    "\n",
    "# num_proc 并行处理\n",
    "# tokenized_datasets = dataset.map(tokenize_function, batched=True)\n",
    "tokenized_datasets = dataset.map(tokenize_function, batched=True, num_proc=8)"
   ]
  },
  {
   "cell_type": "code",
   "execution_count": null,
   "id": "47a415a8-cd15-4a8c-851b-9b4740ef8271",
   "metadata": {
    "tags": []
   },
   "outputs": [],
   "source": [
    "show_random_elements(tokenized_datasets[\"train\"], num_examples=1)"
   ]
  },
  {
   "cell_type": "markdown",
   "id": "1c33d153-f729-4f04-972c-a764c1cbbb8b",
   "metadata": {
    "tags": []
   },
   "source": [
    "### 数据重排"
   ]
  },
  {
   "cell_type": "code",
   "execution_count": 141,
   "id": "a17317d8-3c6a-467f-843d-87491f600db1",
   "metadata": {
    "ExecutionIndicator": {
     "show": false
    },
    "execution": {
     "iopub.execute_input": "2024-02-16T13:04:12.066721Z",
     "iopub.status.busy": "2024-02-16T13:04:12.066358Z",
     "iopub.status.idle": "2024-02-16T13:04:12.082093Z",
     "shell.execute_reply": "2024-02-16T13:04:12.081485Z",
     "shell.execute_reply.started": "2024-02-16T13:04:12.066698Z"
    },
    "tags": []
   },
   "outputs": [],
   "source": [
    "train_dataset = tokenized_datasets[\"train\"].shuffle(seed=42)\n",
    "eval_dataset = tokenized_datasets[\"test\"].shuffle(seed=42)"
   ]
  },
  {
   "cell_type": "markdown",
   "id": "d3b65d63-2d3a-4a56-bc31-6e88a29e9dec",
   "metadata": {
    "tags": []
   },
   "source": [
    "## 微调训练配置"
   ]
  },
  {
   "cell_type": "markdown",
   "id": "e254da2b-8684-4066-8a59-83cd081f72cb",
   "metadata": {
    "tags": []
   },
   "source": [
    "### 加载 BERT 模型"
   ]
  },
  {
   "cell_type": "code",
   "execution_count": null,
   "id": "4d2af4df-abd4-4a4b-94b6-b0e7375304ed",
   "metadata": {
    "ExecutionIndicator": {
     "show": true
    },
    "tags": []
   },
   "outputs": [],
   "source": [
    "from transformers import AutoModelForSequenceClassification\n",
    "\n",
    "llm_model = AutoModelForSequenceClassification.from_pretrained(bert_base_cased, num_labels=5)"
   ]
  },
  {
   "cell_type": "markdown",
   "id": "b44014df-b52c-4c72-9e9f-54424725a473",
   "metadata": {},
   "source": [
    "### 训练超参数（TrainingArguments）\n",
    "\n",
    "完整配置参数与默认值：https://huggingface.co/docs/transformers/v4.36.1/en/main_classes/trainer#transformers.TrainingArguments\n",
    "\n",
    "源代码定义：https://github.com/huggingface/transformers/blob/v4.36.1/src/transformers/training_args.py#L161\n",
    "\n",
    "**最重要配置：模型权重保存路径(output_dir)**"
   ]
  },
  {
   "cell_type": "code",
   "execution_count": 143,
   "id": "98c01d5c-de72-4ff0-b11d-e07ac5346888",
   "metadata": {
    "ExecutionIndicator": {
     "show": false
    },
    "execution": {
     "iopub.execute_input": "2024-02-16T13:04:45.620576Z",
     "iopub.status.busy": "2024-02-16T13:04:45.620193Z",
     "iopub.status.idle": "2024-02-16T13:04:45.625664Z",
     "shell.execute_reply": "2024-02-16T13:04:45.625077Z",
     "shell.execute_reply.started": "2024-02-16T13:04:45.620553Z"
    },
    "tags": []
   },
   "outputs": [],
   "source": [
    "from transformers import TrainingArguments\n",
    "\n",
    "# logging_steps 默认值为500，根据我们的训练数据和步长，将其设置为100\n",
    "training_args = TrainingArguments(output_dir=output_model_dir,\n",
    "                                  per_device_train_batch_size=16,\n",
    "                                  num_train_epochs=5,\n",
    "                                  logging_steps=100)"
   ]
  },
  {
   "cell_type": "code",
   "execution_count": null,
   "id": "0ce03480-3aaa-48ea-a0c6-a177b8d8e34f",
   "metadata": {
    "scrolled": true,
    "tags": []
   },
   "outputs": [],
   "source": [
    "# 完整的超参数配置\n",
    "print(training_args)"
   ]
  },
  {
   "cell_type": "markdown",
   "id": "7ebd3365-d359-4ab4-a300-4717590cc240",
   "metadata": {},
   "source": [
    "### 训练过程中的指标评估（Evaluate)"
   ]
  },
  {
   "cell_type": "code",
   "execution_count": 147,
   "id": "2a8ef138-5bf2-41e5-8c68-df8e11f4e98f",
   "metadata": {
    "ExecutionIndicator": {
     "show": true
    },
    "execution": {
     "iopub.execute_input": "2024-02-16T13:07:05.775403Z",
     "iopub.status.busy": "2024-02-16T13:07:05.775025Z",
     "iopub.status.idle": "2024-02-16T13:07:05.783247Z",
     "shell.execute_reply": "2024-02-16T13:07:05.782638Z",
     "shell.execute_reply.started": "2024-02-16T13:07:05.775377Z"
    },
    "tags": []
   },
   "outputs": [],
   "source": [
    "import numpy as np\n",
    "import evaluate\n",
    "\n",
    "metric = evaluate.load(\"/mnt/workspace/evaluate/metrics/accuracy/accuracy.py\")\n",
    "# metric = evaluate.load(\"accuracy\")"
   ]
  },
  {
   "cell_type": "code",
   "execution_count": 148,
   "id": "f46d2e59-1ebf-43d2-bc86-6b57a4d24d19",
   "metadata": {
    "execution": {
     "iopub.execute_input": "2024-02-16T13:07:06.782430Z",
     "iopub.status.busy": "2024-02-16T13:07:06.781813Z",
     "iopub.status.idle": "2024-02-16T13:07:06.785387Z",
     "shell.execute_reply": "2024-02-16T13:07:06.784818Z",
     "shell.execute_reply.started": "2024-02-16T13:07:06.782406Z"
    },
    "tags": []
   },
   "outputs": [],
   "source": [
    "def compute_metrics(eval_pred):\n",
    "    logits, labels = eval_pred\n",
    "    predictions = np.argmax(logits, axis=-1)\n",
    "    return metric.compute(predictions=predictions, references=labels)"
   ]
  },
  {
   "cell_type": "markdown",
   "id": "e2feba67-9ca9-4793-9a15-3eaa426df2a1",
   "metadata": {},
   "source": [
    "#### 训练过程指标监控"
   ]
  },
  {
   "cell_type": "code",
   "execution_count": 149,
   "id": "afaaee18-4986-4e39-8ad9-b8d413ab4cd1",
   "metadata": {
    "ExecutionIndicator": {
     "show": true
    },
    "execution": {
     "iopub.execute_input": "2024-02-16T13:07:12.577396Z",
     "iopub.status.busy": "2024-02-16T13:07:12.576750Z",
     "iopub.status.idle": "2024-02-16T13:07:12.583284Z",
     "shell.execute_reply": "2024-02-16T13:07:12.582770Z",
     "shell.execute_reply.started": "2024-02-16T13:07:12.577370Z"
    },
    "tags": []
   },
   "outputs": [],
   "source": [
    "from transformers import TrainingArguments, Trainer\n",
    "\n",
    "training_args = TrainingArguments(output_dir=output_model_dir,\n",
    "                                  evaluation_strategy=\"epoch\", \n",
    "                                  per_device_train_batch_size=16,\n",
    "                                  num_train_epochs=3,\n",
    "                                  logging_steps=500)"
   ]
  },
  {
   "cell_type": "markdown",
   "id": "d47d6981-e444-4c0f-a7cb-dd7f2ba8df12",
   "metadata": {
    "tags": []
   },
   "source": [
    "## 开始训练\n",
    "\n"
   ]
  },
  {
   "cell_type": "markdown",
   "id": "4e81c641-9fde-4f1c-b479-dbcce206cfb0",
   "metadata": {},
   "source": [
    "### 实例化训练器（Trainer）"
   ]
  },
  {
   "cell_type": "code",
   "execution_count": null,
   "id": "7704555c-45c8-4346-9702-1de415a72763",
   "metadata": {
    "ExecutionIndicator": {
     "show": true
    },
    "tags": []
   },
   "outputs": [],
   "source": [
    "trainer = Trainer(\n",
    "    model=llm_model,\n",
    "    args=training_args,\n",
    "    train_dataset=train_dataset,\n",
    "    eval_dataset=eval_dataset,\n",
    "    compute_metrics=compute_metrics,\n",
    ")"
   ]
  },
  {
   "cell_type": "markdown",
   "id": "a833e0db-1168-4a3c-8b75-bfdcef8c5157",
   "metadata": {
    "tags": []
   },
   "source": [
    "### 使用 nvidia-smi 查看 GPU 使用"
   ]
  },
  {
   "cell_type": "markdown",
   "id": "3d5a93c8-d130-49cc-aa1d-5cd47b839031",
   "metadata": {},
   "source": [
    "!watch -n 1 nvidia-smi"
   ]
  },
  {
   "cell_type": "markdown",
   "id": "026aa746-1603-4e92-83ce-7f8e6eda0e2f",
   "metadata": {},
   "source": [
    "### 启动训练"
   ]
  },
  {
   "cell_type": "code",
   "execution_count": null,
   "id": "accfe921-471d-481a-96da-c491cdebad0c",
   "metadata": {
    "scrolled": true,
    "tags": []
   },
   "outputs": [],
   "source": [
    "trainer.train()"
   ]
  },
  {
   "cell_type": "markdown",
   "id": "3c62b4d5-9f95-4b11-8f65-724c2d4747e7",
   "metadata": {},
   "source": [
    "### 抽样验证"
   ]
  },
  {
   "cell_type": "code",
   "execution_count": 133,
   "id": "6d581099-37a4-4470-b051-1ada38554089",
   "metadata": {
    "ExecutionIndicator": {
     "show": false
    },
    "execution": {
     "iopub.execute_input": "2024-02-16T12:12:52.865150Z",
     "iopub.status.busy": "2024-02-16T12:12:52.864816Z",
     "iopub.status.idle": "2024-02-16T12:12:52.880356Z",
     "shell.execute_reply": "2024-02-16T12:12:52.879784Z",
     "shell.execute_reply.started": "2024-02-16T12:12:52.865125Z"
    },
    "tags": []
   },
   "outputs": [],
   "source": [
    "small_test_dataset = tokenized_datasets[\"test\"].shuffle(seed=64).select(range(100))\n",
    "trainer.evaluate(small_test_dataset)"
   ]
  },
  {
   "cell_type": "markdown",
   "id": "27a55686-7c43-4ab8-a5cd-0e77f14c7c52",
   "metadata": {
    "tags": []
   },
   "source": [
    "## 保存模型和训练状态"
   ]
  },
  {
   "cell_type": "code",
   "execution_count": 20,
   "id": "ad0cbc14-9ef7-450f-a1a3-4f92b6486f41",
   "metadata": {
    "ExecutionIndicator": {
     "show": false
    },
    "tags": []
   },
   "outputs": [],
   "source": [
    "trainer.save_model(output_model_dir)"
   ]
  },
  {
   "cell_type": "code",
   "execution_count": 21,
   "id": "badf5868-2847-439d-a73e-42d1cca67b5e",
   "metadata": {},
   "outputs": [],
   "source": [
    "trainer.save_state()"
   ]
  },
  {
   "cell_type": "code",
   "execution_count": 23,
   "id": "fd92e35d-fed7-4ff2-aa84-27b5e29b917a",
   "metadata": {},
   "outputs": [],
   "source": [
    "# trainer.model.save_pretrained(\"./\")"
   ]
  }
 ],
 "metadata": {
  "kernelspec": {
   "display_name": "Python 3 (ipykernel)",
   "language": "python",
   "name": "python3"
  },
  "language_info": {
   "codemirror_mode": {
    "name": "ipython",
    "version": 3
   },
   "file_extension": ".py",
   "mimetype": "text/x-python",
   "name": "python",
   "nbconvert_exporter": "python",
   "pygments_lexer": "ipython3",
   "version": "3.10.13"
  }
 },
 "nbformat": 4,
 "nbformat_minor": 5
}
