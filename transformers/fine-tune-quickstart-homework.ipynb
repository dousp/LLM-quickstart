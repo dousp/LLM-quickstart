{
 "cells": [
  {
   "cell_type": "markdown",
   "id": "90c6730f-5d76-450b-9788-ec883d024f57",
   "metadata": {
    "tags": []
   },
   "source": [
    "# Homework: 使用完整的 YelpReviewFull 数据集训练"
   ]
  },
  {
   "cell_type": "markdown",
   "id": "710a7ccc-333a-4875-b061-515b183a7360",
   "metadata": {
    "tags": []
   },
   "source": [
    "## 公共"
   ]
  },
  {
   "cell_type": "code",
   "execution_count": 49,
   "id": "10cf1b0f-f062-49c3-bc54-65c0a59c2fe2",
   "metadata": {
    "ExecutionIndicator": {
     "show": true
    },
    "execution": {
     "iopub.execute_input": "2024-02-17T02:50:40.888029Z",
     "iopub.status.busy": "2024-02-17T02:50:40.887657Z",
     "iopub.status.idle": "2024-02-17T02:50:40.891192Z",
     "shell.execute_reply": "2024-02-17T02:50:40.890662Z",
     "shell.execute_reply.started": "2024-02-17T02:50:40.888004Z"
    },
    "tags": []
   },
   "outputs": [],
   "source": [
    "model_dir = \"/mnt/workspace/models\"\n",
    "dataset_dir = \"/mnt/workspace/dataset\"\n",
    "bert_base_cased = f\"{model_dir}/google-bert/bert-base-cased\"\n",
    "output_model_dir = f\"{model_dir}/bert-base-cased-finetune-yelp\"\n",
    "yelp_review_full = f\"{dataset_dir}/yelp_review_full\"\n",
    "max_length = 512"
   ]
  },
  {
   "cell_type": "markdown",
   "id": "aa0b1e12-1921-4438-8d5d-9760a629dcfe",
   "metadata": {
    "tags": []
   },
   "source": [
    "## 数据集"
   ]
  },
  {
   "cell_type": "markdown",
   "id": "f568ae7f-cdba-44e6-bec9-cea4a5710c4f",
   "metadata": {
    "tags": []
   },
   "source": [
    "### 加载"
   ]
  },
  {
   "cell_type": "code",
   "execution_count": 50,
   "id": "bbf72d6c-7ea5-4ee1-969a-c5060b9cb2d4",
   "metadata": {
    "ExecutionIndicator": {
     "show": false
    },
    "execution": {
     "iopub.execute_input": "2024-02-17T02:50:43.281701Z",
     "iopub.status.busy": "2024-02-17T02:50:43.281323Z",
     "iopub.status.idle": "2024-02-17T02:50:43.312375Z",
     "shell.execute_reply": "2024-02-17T02:50:43.311775Z",
     "shell.execute_reply.started": "2024-02-17T02:50:43.281678Z"
    },
    "scrolled": true,
    "tags": []
   },
   "outputs": [],
   "source": [
    "from datasets import load_dataset\n",
    "\n",
    "dataset = load_dataset(yelp_review_full)"
   ]
  },
  {
   "cell_type": "code",
   "execution_count": 51,
   "id": "ec6fc806-1395-42dd-8121-a6e98a95cf01",
   "metadata": {
    "execution": {
     "iopub.execute_input": "2024-02-17T02:50:45.503153Z",
     "iopub.status.busy": "2024-02-17T02:50:45.502810Z",
     "iopub.status.idle": "2024-02-17T02:50:45.506990Z",
     "shell.execute_reply": "2024-02-17T02:50:45.506465Z",
     "shell.execute_reply.started": "2024-02-17T02:50:45.503131Z"
    },
    "tags": []
   },
   "outputs": [
    {
     "data": {
      "text/plain": [
       "DatasetDict({\n",
       "    train: Dataset({\n",
       "        features: ['label', 'text'],\n",
       "        num_rows: 650000\n",
       "    })\n",
       "    test: Dataset({\n",
       "        features: ['label', 'text'],\n",
       "        num_rows: 50000\n",
       "    })\n",
       "})"
      ]
     },
     "execution_count": 51,
     "metadata": {},
     "output_type": "execute_result"
    }
   ],
   "source": [
    "dataset"
   ]
  },
  {
   "cell_type": "markdown",
   "id": "afd48e3a-a21c-4d08-86f6-7b285c8e29c6",
   "metadata": {
    "tags": []
   },
   "source": [
    "### 随机抽样函数"
   ]
  },
  {
   "cell_type": "code",
   "execution_count": 52,
   "id": "6dc45997-e391-456f-b0b9-d3193b0f6a9d",
   "metadata": {
    "ExecutionIndicator": {
     "show": true
    },
    "execution": {
     "iopub.execute_input": "2024-02-17T02:51:01.134834Z",
     "iopub.status.busy": "2024-02-17T02:51:01.134476Z",
     "iopub.status.idle": "2024-02-17T02:51:01.139743Z",
     "shell.execute_reply": "2024-02-17T02:51:01.139205Z",
     "shell.execute_reply.started": "2024-02-17T02:51:01.134810Z"
    },
    "tags": []
   },
   "outputs": [],
   "source": [
    "import random\n",
    "import pandas as pd\n",
    "import datasets\n",
    "from IPython.display import display, HTML\n",
    "\n",
    "# import os\n",
    "# os.environ['HF_ENDPOINT'] = 'https://hf-mirror.com'\n",
    "\n",
    "def show_random_elements(dataset, num_examples=10):\n",
    "    assert num_examples <= len(dataset), \"Can't pick more elements than there are in the dataset.\"\n",
    "    picks = []\n",
    "    for _ in range(num_examples):\n",
    "        pick = random.randint(0, len(dataset)-1)\n",
    "        while pick in picks:\n",
    "            pick = random.randint(0, len(dataset)-1)\n",
    "        picks.append(pick)\n",
    "    \n",
    "    df = pd.DataFrame(dataset[picks])\n",
    "    for column, typ in dataset.features.items():\n",
    "        if isinstance(typ, datasets.ClassLabel):\n",
    "            df[column] = df[column].transform(lambda i: typ.names[i])\n",
    "    display(HTML(df.to_html()))"
   ]
  },
  {
   "cell_type": "code",
   "execution_count": 53,
   "id": "c94ad529-1604-48bd-8c8d-aa2f3bca6200",
   "metadata": {
    "ExecutionIndicator": {
     "show": true
    },
    "execution": {
     "iopub.execute_input": "2024-02-17T02:51:05.083779Z",
     "iopub.status.busy": "2024-02-17T02:51:05.083411Z",
     "iopub.status.idle": "2024-02-17T02:51:05.087986Z",
     "shell.execute_reply": "2024-02-17T02:51:05.087390Z",
     "shell.execute_reply.started": "2024-02-17T02:51:05.083754Z"
    },
    "tags": []
   },
   "outputs": [
    {
     "data": {
      "text/plain": [
       "{'label': 3,\n",
       " 'text': \"I drove by yesterday to get a sneak peak.  It re-opens on July 14th and I can't wait to take my kids.  The new range looks amazing.  The entire range appears to be turf, which may or many not help your game, but it looks really nice.  The tee boxes look state of the art and the club house looks like something you'll see on a newer course.  Can't wait to experience it!\"}"
      ]
     },
     "execution_count": 53,
     "metadata": {},
     "output_type": "execute_result"
    }
   ],
   "source": [
    "dataset[\"train\"][12]"
   ]
  },
  {
   "cell_type": "code",
   "execution_count": 55,
   "id": "1af560b6-7d21-499e-9b82-114be371a98a",
   "metadata": {
    "ExecutionIndicator": {
     "show": true
    },
    "execution": {
     "iopub.execute_input": "2024-02-17T02:51:18.408636Z",
     "iopub.status.busy": "2024-02-17T02:51:18.408247Z",
     "iopub.status.idle": "2024-02-17T02:51:18.414790Z",
     "shell.execute_reply": "2024-02-17T02:51:18.414198Z",
     "shell.execute_reply.started": "2024-02-17T02:51:18.408612Z"
    },
    "tags": []
   },
   "outputs": [
    {
     "data": {
      "text/html": [
       "<table border=\"1\" class=\"dataframe\">\n",
       "  <thead>\n",
       "    <tr style=\"text-align: right;\">\n",
       "      <th></th>\n",
       "      <th>label</th>\n",
       "      <th>text</th>\n",
       "    </tr>\n",
       "  </thead>\n",
       "  <tbody>\n",
       "    <tr>\n",
       "      <th>0</th>\n",
       "      <td>3 stars</td>\n",
       "      <td>I ended up eating at Taggia while staying at Firesky so it was a choice of convenience. I've had the food from here several times using room service and it's never anything to complain about. It was the same story the day I had lunch here. I had an organic greens salad and shared the margherita and goat cheese pizzas with my fellow lunchers. All of the food was good - the goat cheese pizza in particular with its thin, crispy crust.\\n\\nUnfortunately the day we ate here our service was MIA. We were told we could seat ourselves so we did. After about 10 minutes someone came by to take our drink order and maybe 10 minutes later our waters arrived. Well 2 out of 3 of them did anyway. Then we ordered two salads and two pizzas to share. One pizza came first. WTH? Where were the salads? Or the other pizza? The salads showed up a few minutes later and then our server realized that she had forgotten our second pizza. No biggie since we had salads and one pizza to eat. But the service was lackluster with a L. Like Andrea R says, I wouldn't go out of my way to eat here, but when in the area it's a good option to have.</td>\n",
       "    </tr>\n",
       "    <tr>\n",
       "      <th>1</th>\n",
       "      <td>2 star</td>\n",
       "      <td>I recently had a work luncheon at Ricardo's, I had been before years ago and it was extremely unmemorable. This visit would be more memorable but for the wrong reasons. \\n\\nWhen given the choice, I prefer to order off the menu than choose a buffet. But the whole group went to the buffet and I didn't want to be the oddball. I had two carne asada tacos, cheese enchilada and chips &amp; salsa. The enchilada was bland the only hint of flavor was the acidity from the tomatoes. The salsa, too, was bland and watery. The chips were pretty generic. The first taco was ok, a bit bland, but tender. The second was filled with grizzly meat. It really turned my stomach. Fortunately, the service was friendly and they were able to accomodate our large group.</td>\n",
       "    </tr>\n",
       "    <tr>\n",
       "      <th>2</th>\n",
       "      <td>4 stars</td>\n",
       "      <td>We had a great time at this resort over the long weekend.  The staff was super friendly, especially Adam, David and Cassie.  Great job!!!  And our suite was perfect to accommodate three women with lots of bags, make-up and shoes.  The Hole in the Wall restaurant had a really good breakfast, friendly staff and an outdoors patio.  Not so for the Rico Restaurant.  They were a bit rude, overwhelmed and obviously didn't want our business.  We also floated down the Lazy River, it was definitely Lazy...pretty slow but perfect temp.  All in all, I'll be back.</td>\n",
       "    </tr>\n",
       "  </tbody>\n",
       "</table>"
      ],
      "text/plain": [
       "<IPython.core.display.HTML object>"
      ]
     },
     "metadata": {},
     "output_type": "display_data"
    }
   ],
   "source": [
    "show_random_elements(dataset[\"train\"],3)"
   ]
  },
  {
   "cell_type": "markdown",
   "id": "c9df7cd0-23cd-458f-b2b5-f025c3b9fe62",
   "metadata": {
    "tags": []
   },
   "source": [
    "## 数据预处理"
   ]
  },
  {
   "cell_type": "markdown",
   "id": "8bbbb297-9c16-46eb-ac40-7c91dc791036",
   "metadata": {
    "tags": []
   },
   "source": [
    "### 预处理"
   ]
  },
  {
   "cell_type": "code",
   "execution_count": 57,
   "id": "8bf2b342-e1dd-4ab6-ad57-28eb2513ae38",
   "metadata": {
    "ExecutionIndicator": {
     "show": true
    },
    "execution": {
     "iopub.execute_input": "2024-02-17T03:02:25.081924Z",
     "iopub.status.busy": "2024-02-17T03:02:25.081552Z",
     "iopub.status.idle": "2024-02-17T03:07:13.307412Z",
     "shell.execute_reply": "2024-02-17T03:07:13.306767Z",
     "shell.execute_reply.started": "2024-02-17T03:02:25.081895Z"
    },
    "tags": []
   },
   "outputs": [
    {
     "data": {
      "application/vnd.jupyter.widget-view+json": {
       "model_id": "ba1fb6a6b16f497895b61dc4565a64ea",
       "version_major": 2,
       "version_minor": 0
      },
      "text/plain": [
       "Map (num_proc=8):   0%|          | 0/650000 [00:00<?, ? examples/s]"
      ]
     },
     "metadata": {},
     "output_type": "display_data"
    },
    {
     "data": {
      "application/vnd.jupyter.widget-view+json": {
       "model_id": "b880c40cebcb435f8e25920c2aa7e363",
       "version_major": 2,
       "version_minor": 0
      },
      "text/plain": [
       "Map (num_proc=8):   0%|          | 0/50000 [00:00<?, ? examples/s]"
      ]
     },
     "metadata": {},
     "output_type": "display_data"
    }
   ],
   "source": [
    "from transformers import AutoTokenizer\n",
    "\n",
    "tokenizer = AutoTokenizer.from_pretrained(bert_base_cased)\n",
    "\n",
    "def tokenize_function(examples):\n",
    "    #  这里不加这个max_length就无法训练，不知道为什么和老师给的例子有区别，是因为本地加载？？\n",
    "    # return tokenizer(examples[\"text\"], padding=\"max_length\", truncation=True)\n",
    "    return tokenizer(examples[\"text\"], padding=\"max_length\", truncation=True, max_length=max_length)\n",
    "\n",
    "# num_proc 并行处理\n",
    "# tokenized_datasets = dataset.map(tokenize_function, batched=True)\n",
    "tokenized_datasets = dataset.map(tokenize_function, batched=True, num_proc=8)"
   ]
  },
  {
   "cell_type": "code",
   "execution_count": 58,
   "id": "eb858202-1be6-4768-bb72-468f2d6d3c55",
   "metadata": {
    "execution": {
     "iopub.execute_input": "2024-02-17T03:13:17.418656Z",
     "iopub.status.busy": "2024-02-17T03:13:17.418285Z",
     "iopub.status.idle": "2024-02-17T03:13:17.539445Z",
     "shell.execute_reply": "2024-02-17T03:13:17.538828Z",
     "shell.execute_reply.started": "2024-02-17T03:13:17.418629Z"
    },
    "tags": []
   },
   "outputs": [],
   "source": [
    "# 随机重新排列\n",
    "train_dataset = tokenized_datasets[\"train\"].shuffle(seed=42)\n",
    "eval_dataset = tokenized_datasets[\"test\"].shuffle(seed=42)"
   ]
  },
  {
   "cell_type": "markdown",
   "id": "d3b65d63-2d3a-4a56-bc31-6e88a29e9dec",
   "metadata": {
    "tags": []
   },
   "source": [
    "## 微调训练配置"
   ]
  },
  {
   "cell_type": "markdown",
   "id": "e254da2b-8684-4066-8a59-83cd081f72cb",
   "metadata": {
    "tags": []
   },
   "source": [
    "### 加载 BERT 模型"
   ]
  },
  {
   "cell_type": "code",
   "execution_count": 59,
   "id": "4d2af4df-abd4-4a4b-94b6-b0e7375304ed",
   "metadata": {
    "ExecutionIndicator": {
     "show": true
    },
    "execution": {
     "iopub.execute_input": "2024-02-17T03:13:23.401455Z",
     "iopub.status.busy": "2024-02-17T03:13:23.401074Z",
     "iopub.status.idle": "2024-02-17T03:13:23.513246Z",
     "shell.execute_reply": "2024-02-17T03:13:23.512626Z",
     "shell.execute_reply.started": "2024-02-17T03:13:23.401429Z"
    },
    "tags": []
   },
   "outputs": [
    {
     "name": "stderr",
     "output_type": "stream",
     "text": [
      "Some weights of BertForSequenceClassification were not initialized from the model checkpoint at /mnt/workspace/models/google-bert/bert-base-cased and are newly initialized: ['classifier.bias', 'classifier.weight']\n",
      "You should probably TRAIN this model on a down-stream task to be able to use it for predictions and inference.\n"
     ]
    }
   ],
   "source": [
    "from transformers import AutoModelForSequenceClassification\n",
    "\n",
    "llm_model = AutoModelForSequenceClassification.from_pretrained(bert_base_cased, num_labels=5)"
   ]
  },
  {
   "cell_type": "markdown",
   "id": "7ebd3365-d359-4ab4-a300-4717590cc240",
   "metadata": {},
   "source": [
    "### 训练过程中的指标评估（Evaluate)"
   ]
  },
  {
   "cell_type": "code",
   "execution_count": 61,
   "id": "2a8ef138-5bf2-41e5-8c68-df8e11f4e98f",
   "metadata": {
    "ExecutionIndicator": {
     "show": true
    },
    "execution": {
     "iopub.execute_input": "2024-02-17T03:13:40.112235Z",
     "iopub.status.busy": "2024-02-17T03:13:40.111868Z",
     "iopub.status.idle": "2024-02-17T03:13:40.122080Z",
     "shell.execute_reply": "2024-02-17T03:13:40.121507Z",
     "shell.execute_reply.started": "2024-02-17T03:13:40.112210Z"
    },
    "tags": []
   },
   "outputs": [],
   "source": [
    "import numpy as np\n",
    "import evaluate\n",
    "\n",
    "metric = evaluate.load(\"/mnt/workspace/evaluate/metrics/accuracy/accuracy.py\")\n",
    "# metric = evaluate.load(\"accuracy\")"
   ]
  },
  {
   "cell_type": "code",
   "execution_count": 62,
   "id": "f46d2e59-1ebf-43d2-bc86-6b57a4d24d19",
   "metadata": {
    "execution": {
     "iopub.execute_input": "2024-02-17T03:13:45.602919Z",
     "iopub.status.busy": "2024-02-17T03:13:45.602550Z",
     "iopub.status.idle": "2024-02-17T03:13:45.606180Z",
     "shell.execute_reply": "2024-02-17T03:13:45.605616Z",
     "shell.execute_reply.started": "2024-02-17T03:13:45.602895Z"
    },
    "tags": []
   },
   "outputs": [],
   "source": [
    "def compute_metrics(eval_pred):\n",
    "    logits, labels = eval_pred\n",
    "    predictions = np.argmax(logits, axis=-1)\n",
    "    return metric.compute(predictions=predictions, references=labels)"
   ]
  },
  {
   "cell_type": "markdown",
   "id": "e2feba67-9ca9-4793-9a15-3eaa426df2a1",
   "metadata": {},
   "source": [
    "#### 训练过程指标监控"
   ]
  },
  {
   "cell_type": "code",
   "execution_count": 68,
   "id": "afaaee18-4986-4e39-8ad9-b8d413ab4cd1",
   "metadata": {
    "ExecutionIndicator": {
     "show": true
    },
    "execution": {
     "iopub.execute_input": "2024-02-17T03:49:49.391596Z",
     "iopub.status.busy": "2024-02-17T03:49:49.390959Z",
     "iopub.status.idle": "2024-02-17T03:49:49.397393Z",
     "shell.execute_reply": "2024-02-17T03:49:49.396808Z",
     "shell.execute_reply.started": "2024-02-17T03:49:49.391572Z"
    },
    "scrolled": true,
    "tags": []
   },
   "outputs": [
    {
     "name": "stdout",
     "output_type": "stream",
     "text": [
      "TrainingArguments(\n",
      "_n_gpu=1,\n",
      "adafactor=False,\n",
      "adam_beta1=0.9,\n",
      "adam_beta2=0.999,\n",
      "adam_epsilon=1e-08,\n",
      "auto_find_batch_size=False,\n",
      "bf16=False,\n",
      "bf16_full_eval=False,\n",
      "data_seed=None,\n",
      "dataloader_drop_last=False,\n",
      "dataloader_num_workers=0,\n",
      "dataloader_persistent_workers=False,\n",
      "dataloader_pin_memory=True,\n",
      "ddp_backend=None,\n",
      "ddp_broadcast_buffers=None,\n",
      "ddp_bucket_cap_mb=None,\n",
      "ddp_find_unused_parameters=None,\n",
      "ddp_timeout=1800,\n",
      "debug=[],\n",
      "deepspeed=None,\n",
      "disable_tqdm=False,\n",
      "dispatch_batches=None,\n",
      "do_eval=True,\n",
      "do_predict=False,\n",
      "do_train=False,\n",
      "eval_accumulation_steps=None,\n",
      "eval_delay=0,\n",
      "eval_steps=None,\n",
      "evaluation_strategy=epoch,\n",
      "fp16=False,\n",
      "fp16_backend=auto,\n",
      "fp16_full_eval=False,\n",
      "fp16_opt_level=O1,\n",
      "fsdp=[],\n",
      "fsdp_config={'min_num_params': 0, 'xla': False, 'xla_fsdp_grad_ckpt': False},\n",
      "fsdp_min_num_params=0,\n",
      "fsdp_transformer_layer_cls_to_wrap=None,\n",
      "full_determinism=False,\n",
      "gradient_accumulation_steps=1,\n",
      "gradient_checkpointing=False,\n",
      "gradient_checkpointing_kwargs=None,\n",
      "greater_is_better=None,\n",
      "group_by_length=False,\n",
      "half_precision_backend=auto,\n",
      "hub_always_push=False,\n",
      "hub_model_id=None,\n",
      "hub_private_repo=False,\n",
      "hub_strategy=checkpoint,\n",
      "hub_token=<HUB_TOKEN>,\n",
      "ignore_data_skip=False,\n",
      "include_inputs_for_metrics=False,\n",
      "include_num_input_tokens_seen=False,\n",
      "include_tokens_per_second=False,\n",
      "jit_mode_eval=False,\n",
      "label_names=None,\n",
      "label_smoothing_factor=0.0,\n",
      "learning_rate=5e-05,\n",
      "length_column_name=length,\n",
      "load_best_model_at_end=False,\n",
      "local_rank=0,\n",
      "log_level=passive,\n",
      "log_level_replica=warning,\n",
      "log_on_each_node=True,\n",
      "logging_dir=/mnt/workspace/models/bert-base-cased-finetune-yelp/runs/Feb17_11-49-49_dsw-322918-db57c696f-d6vgn,\n",
      "logging_first_step=False,\n",
      "logging_nan_inf_filter=True,\n",
      "logging_steps=500,\n",
      "logging_strategy=steps,\n",
      "lr_scheduler_kwargs={},\n",
      "lr_scheduler_type=linear,\n",
      "max_grad_norm=1.0,\n",
      "max_steps=-1,\n",
      "metric_for_best_model=None,\n",
      "mp_parameters=,\n",
      "neftune_noise_alpha=None,\n",
      "no_cuda=False,\n",
      "num_train_epochs=3,\n",
      "optim=adamw_torch,\n",
      "optim_args=None,\n",
      "output_dir=/mnt/workspace/models/bert-base-cased-finetune-yelp,\n",
      "overwrite_output_dir=False,\n",
      "past_index=-1,\n",
      "per_device_eval_batch_size=24,\n",
      "per_device_train_batch_size=24,\n",
      "prediction_loss_only=False,\n",
      "push_to_hub=False,\n",
      "push_to_hub_model_id=None,\n",
      "push_to_hub_organization=None,\n",
      "push_to_hub_token=<PUSH_TO_HUB_TOKEN>,\n",
      "ray_scope=last,\n",
      "remove_unused_columns=True,\n",
      "report_to=['wandb'],\n",
      "resume_from_checkpoint=None,\n",
      "run_name=/mnt/workspace/models/bert-base-cased-finetune-yelp,\n",
      "save_on_each_node=False,\n",
      "save_only_model=False,\n",
      "save_safetensors=True,\n",
      "save_steps=500,\n",
      "save_strategy=steps,\n",
      "save_total_limit=2,\n",
      "seed=42,\n",
      "skip_memory_metrics=True,\n",
      "split_batches=False,\n",
      "tf32=True,\n",
      "torch_compile=False,\n",
      "torch_compile_backend=None,\n",
      "torch_compile_mode=None,\n",
      "torchdynamo=None,\n",
      "tpu_metrics_debug=False,\n",
      "tpu_num_cores=None,\n",
      "use_cpu=False,\n",
      "use_ipex=False,\n",
      "use_legacy_prediction_loop=False,\n",
      "use_mps_device=False,\n",
      "warmup_ratio=0.0,\n",
      "warmup_steps=0,\n",
      "weight_decay=0.0,\n",
      ")\n"
     ]
    }
   ],
   "source": [
    "from transformers import TrainingArguments, Trainer\n",
    "import os\n",
    "import wandb\n",
    "import torch\n",
    "\n",
    "\n",
    "os.environ[\"WANDB_PROJECT\"]=\"llm-dev\"\n",
    "os.environ[\"WANDB_LOG_MODEL\"]=\"true\"\n",
    "os.environ[\"WANDB_WATCH\"]=\"false\"\n",
    "\n",
    "torch.backends.cuda.matmul.allow_tf32 = True\n",
    "torch.backends.cudnn.allow_tf32 = True\n",
    "\n",
    "\n",
    "training_args = TrainingArguments(\n",
    "    output_dir=output_model_dir,\n",
    "    evaluation_strategy=\"epoch\",\n",
    "    num_train_epochs=3, # 默认就是3\n",
    "    per_device_train_batch_size=24,\n",
    "    per_device_eval_batch_size=24,\n",
    "    tf32=True,\n",
    "    save_total_limit=2, # 控制生成checkpoints文件夹的数量\n",
    "    hub_strategy=\"checkpoint\",\n",
    "    save_strategy=\"steps\",\n",
    "    save_steps=500,\n",
    "    ignore_data_skip=False,\n",
    "    report_to=\"wandb\",\n",
    "    logging_steps=500\n",
    ")\n",
    "\n",
    "print(training_args)"
   ]
  },
  {
   "cell_type": "markdown",
   "id": "d47d6981-e444-4c0f-a7cb-dd7f2ba8df12",
   "metadata": {
    "tags": []
   },
   "source": [
    "## 开始训练\n",
    "\n"
   ]
  },
  {
   "cell_type": "markdown",
   "id": "4e81c641-9fde-4f1c-b479-dbcce206cfb0",
   "metadata": {},
   "source": [
    "### 实例化训练器（Trainer）"
   ]
  },
  {
   "cell_type": "code",
   "execution_count": 69,
   "id": "7704555c-45c8-4346-9702-1de415a72763",
   "metadata": {
    "ExecutionIndicator": {
     "show": true
    },
    "execution": {
     "iopub.execute_input": "2024-02-17T03:49:55.530394Z",
     "iopub.status.busy": "2024-02-17T03:49:55.530024Z",
     "iopub.status.idle": "2024-02-17T03:49:55.538347Z",
     "shell.execute_reply": "2024-02-17T03:49:55.537801Z",
     "shell.execute_reply.started": "2024-02-17T03:49:55.530369Z"
    },
    "tags": []
   },
   "outputs": [
    {
     "name": "stderr",
     "output_type": "stream",
     "text": [
      "Detected kernel version 4.19.24, which is below the recommended minimum of 5.5.0; this can cause the process to hang. It is recommended to upgrade the kernel to the minimum version or higher.\n"
     ]
    }
   ],
   "source": [
    "trainer = Trainer(\n",
    "    model=llm_model,\n",
    "    args=training_args,\n",
    "    train_dataset=train_dataset,\n",
    "    eval_dataset=eval_dataset,\n",
    "    compute_metrics=compute_metrics,\n",
    ")"
   ]
  },
  {
   "cell_type": "markdown",
   "id": "a833e0db-1168-4a3c-8b75-bfdcef8c5157",
   "metadata": {
    "tags": []
   },
   "source": [
    "### 使用 nvidia-smi 查看 GPU 使用"
   ]
  },
  {
   "cell_type": "markdown",
   "id": "3d5a93c8-d130-49cc-aa1d-5cd47b839031",
   "metadata": {},
   "source": [
    "!watch -n 1 nvidia-smi"
   ]
  },
  {
   "cell_type": "markdown",
   "id": "026aa746-1603-4e92-83ce-7f8e6eda0e2f",
   "metadata": {},
   "source": [
    "### 启动训练"
   ]
  },
  {
   "cell_type": "code",
   "execution_count": 70,
   "id": "accfe921-471d-481a-96da-c491cdebad0c",
   "metadata": {
    "execution": {
     "iopub.execute_input": "2024-02-17T03:50:00.149219Z",
     "iopub.status.busy": "2024-02-17T03:50:00.148531Z",
     "iopub.status.idle": "2024-02-17T10:56:14.056330Z",
     "shell.execute_reply": "2024-02-17T10:56:14.055468Z",
     "shell.execute_reply.started": "2024-02-17T03:50:00.149189Z"
    },
    "tags": []
   },
   "outputs": [
    {
     "data": {
      "text/html": [
       "Changes to your `wandb` environment variables will be ignored because your `wandb` session has already started. For more information on how to modify your settings with `wandb.init()` arguments, please refer to <a href='https://wandb.me/wandb-init' target=\"_blank\">the W&B docs</a>."
      ],
      "text/plain": [
       "<IPython.core.display.HTML object>"
      ]
     },
     "metadata": {},
     "output_type": "display_data"
    },
    {
     "name": "stderr",
     "output_type": "stream",
     "text": [
      "\u001b[34m\u001b[1mwandb\u001b[0m: Currently logged in as: \u001b[33mdouspeng\u001b[0m. Use \u001b[1m`wandb login --relogin`\u001b[0m to force relogin\n"
     ]
    },
    {
     "data": {
      "text/html": [
       "Tracking run with wandb version 0.16.3"
      ],
      "text/plain": [
       "<IPython.core.display.HTML object>"
      ]
     },
     "metadata": {},
     "output_type": "display_data"
    },
    {
     "data": {
      "text/html": [
       "Run data is saved locally in <code>/mnt/workspace/LLM-quickstart/transformers/wandb/run-20240217_115002-zl8vt06q</code>"
      ],
      "text/plain": [
       "<IPython.core.display.HTML object>"
      ]
     },
     "metadata": {},
     "output_type": "display_data"
    },
    {
     "data": {
      "text/html": [
       "Syncing run <strong><a href='https://wandb.ai/douspeng/llm-dev/runs/zl8vt06q' target=\"_blank\">glowing-fish-1</a></strong> to <a href='https://wandb.ai/douspeng/llm-dev' target=\"_blank\">Weights & Biases</a> (<a href='https://wandb.me/run' target=\"_blank\">docs</a>)<br/>"
      ],
      "text/plain": [
       "<IPython.core.display.HTML object>"
      ]
     },
     "metadata": {},
     "output_type": "display_data"
    },
    {
     "data": {
      "text/html": [
       " View project at <a href='https://wandb.ai/douspeng/llm-dev' target=\"_blank\">https://wandb.ai/douspeng/llm-dev</a>"
      ],
      "text/plain": [
       "<IPython.core.display.HTML object>"
      ]
     },
     "metadata": {},
     "output_type": "display_data"
    },
    {
     "data": {
      "text/html": [
       " View run at <a href='https://wandb.ai/douspeng/llm-dev/runs/zl8vt06q' target=\"_blank\">https://wandb.ai/douspeng/llm-dev/runs/zl8vt06q</a>"
      ],
      "text/plain": [
       "<IPython.core.display.HTML object>"
      ]
     },
     "metadata": {},
     "output_type": "display_data"
    },
    {
     "data": {
      "text/html": [
       "\n",
       "    <div>\n",
       "      \n",
       "      <progress value='88638' max='88638' style='width:300px; height:20px; vertical-align: middle;'></progress>\n",
       "      [88638/88638 7:05:46, Epoch 3/3]\n",
       "    </div>\n",
       "    <table border=\"1\" class=\"dataframe\">\n",
       "  <thead>\n",
       " <tr style=\"text-align: left;\">\n",
       "      <th>Epoch</th>\n",
       "      <th>Training Loss</th>\n",
       "      <th>Validation Loss</th>\n",
       "      <th>Accuracy</th>\n",
       "    </tr>\n",
       "  </thead>\n",
       "  <tbody>\n",
       "    <tr>\n",
       "      <td>2</td>\n",
       "      <td>0.664600</td>\n",
       "      <td>0.714934</td>\n",
       "      <td>0.691360</td>\n",
       "    </tr>\n",
       "    <tr>\n",
       "      <td>3</td>\n",
       "      <td>0.580400</td>\n",
       "      <td>0.733519</td>\n",
       "      <td>0.692260</td>\n",
       "    </tr>\n",
       "  </tbody>\n",
       "</table><p>"
      ],
      "text/plain": [
       "<IPython.core.display.HTML object>"
      ]
     },
     "metadata": {},
     "output_type": "display_data"
    },
    {
     "name": "stderr",
     "output_type": "stream",
     "text": [
      "Detected kernel version 4.19.24, which is below the recommended minimum of 5.5.0; this can cause the process to hang. It is recommended to upgrade the kernel to the minimum version or higher.\n"
     ]
    }
   ],
   "source": [
    "from transformers.trainer_utils import get_last_checkpoint\n",
    "\n",
    "resume_from_checkpoint = get_last_checkpoint(training_args.output_dir)\n",
    "if resume_from_checkpoint is None:\n",
    "    trainer.train()\n",
    "else:\n",
    "    trainer.train(resume_from_checkpoint=True)"
   ]
  },
  {
   "cell_type": "markdown",
   "id": "3c62b4d5-9f95-4b11-8f65-724c2d4747e7",
   "metadata": {},
   "source": [
    "### 抽样验证"
   ]
  },
  {
   "cell_type": "code",
   "execution_count": 71,
   "id": "6d581099-37a4-4470-b051-1ada38554089",
   "metadata": {
    "ExecutionIndicator": {
     "show": false
    },
    "execution": {
     "iopub.execute_input": "2024-02-17T11:13:47.640837Z",
     "iopub.status.busy": "2024-02-17T11:13:47.640470Z",
     "iopub.status.idle": "2024-02-17T11:13:48.360733Z",
     "shell.execute_reply": "2024-02-17T11:13:48.360164Z",
     "shell.execute_reply.started": "2024-02-17T11:13:47.640810Z"
    },
    "tags": []
   },
   "outputs": [
    {
     "data": {
      "text/html": [
       "\n",
       "    <div>\n",
       "      \n",
       "      <progress value='5' max='5' style='width:300px; height:20px; vertical-align: middle;'></progress>\n",
       "      [5/5 00:00]\n",
       "    </div>\n",
       "    "
      ],
      "text/plain": [
       "<IPython.core.display.HTML object>"
      ]
     },
     "metadata": {},
     "output_type": "display_data"
    },
    {
     "data": {
      "text/plain": [
       "{'eval_loss': 0.8696637749671936,\n",
       " 'eval_accuracy': 0.63,\n",
       " 'eval_runtime': 0.6982,\n",
       " 'eval_samples_per_second': 143.221,\n",
       " 'eval_steps_per_second': 7.161,\n",
       " 'epoch': 3.0}"
      ]
     },
     "execution_count": 71,
     "metadata": {},
     "output_type": "execute_result"
    }
   ],
   "source": [
    "small_test_dataset = tokenized_datasets[\"test\"].shuffle(seed=64).select(range(100))\n",
    "trainer.evaluate(small_test_dataset)"
   ]
  },
  {
   "cell_type": "markdown",
   "id": "27a55686-7c43-4ab8-a5cd-0e77f14c7c52",
   "metadata": {
    "tags": []
   },
   "source": [
    "## 保存模型和训练状态"
   ]
  },
  {
   "cell_type": "code",
   "execution_count": 72,
   "id": "ad0cbc14-9ef7-450f-a1a3-4f92b6486f41",
   "metadata": {
    "ExecutionIndicator": {
     "show": false
    },
    "execution": {
     "iopub.execute_input": "2024-02-17T11:14:02.363455Z",
     "iopub.status.busy": "2024-02-17T11:14:02.363101Z",
     "iopub.status.idle": "2024-02-17T11:14:02.680172Z",
     "shell.execute_reply": "2024-02-17T11:14:02.679526Z",
     "shell.execute_reply.started": "2024-02-17T11:14:02.363428Z"
    },
    "tags": []
   },
   "outputs": [],
   "source": [
    "trainer.save_model(output_model_dir)"
   ]
  },
  {
   "cell_type": "code",
   "execution_count": 73,
   "id": "badf5868-2847-439d-a73e-42d1cca67b5e",
   "metadata": {
    "execution": {
     "iopub.execute_input": "2024-02-17T11:14:06.209590Z",
     "iopub.status.busy": "2024-02-17T11:14:06.209180Z",
     "iopub.status.idle": "2024-02-17T11:14:06.218282Z",
     "shell.execute_reply": "2024-02-17T11:14:06.217543Z",
     "shell.execute_reply.started": "2024-02-17T11:14:06.209563Z"
    },
    "tags": []
   },
   "outputs": [],
   "source": [
    "trainer.save_state()"
   ]
  },
  {
   "cell_type": "code",
   "execution_count": 23,
   "id": "fd92e35d-fed7-4ff2-aa84-27b5e29b917a",
   "metadata": {},
   "outputs": [],
   "source": [
    "# trainer.model.save_pretrained(\"./\")"
   ]
  }
 ],
 "metadata": {
  "kernelspec": {
   "display_name": "Python 3 (ipykernel)",
   "language": "python",
   "name": "python3"
  },
  "language_info": {
   "codemirror_mode": {
    "name": "ipython",
    "version": 3
   },
   "file_extension": ".py",
   "mimetype": "text/x-python",
   "name": "python",
   "nbconvert_exporter": "python",
   "pygments_lexer": "ipython3",
   "version": "3.10.13"
  }
 },
 "nbformat": 4,
 "nbformat_minor": 5
}
