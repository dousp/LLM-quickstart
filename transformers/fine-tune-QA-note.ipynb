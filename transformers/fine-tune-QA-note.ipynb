{
 "cells": [
  {
   "cell_type": "markdown",
   "id": "b6115edf-c908-41a0-9526-bfe4f6a3a0d7",
   "metadata": {
    "tags": []
   },
   "source": [
    "# Hugging Face Transformers 微调语言模型-问答任务-Homework\n",
    "\n",
    "微调训练一个支持问答任务的模型。\n",
    "\n",
    "**注意：微调后的模型仍然是通过提取上下文的子串来回答问题的，而不是生成新的文本。**"
   ]
  },
  {
   "cell_type": "markdown",
   "id": "d2003250-b3f4-43e4-a8de-a161be75b170",
   "metadata": {
    "tags": []
   },
   "source": [
    "## 1.公共设置"
   ]
  },
  {
   "cell_type": "code",
   "execution_count": 60,
   "id": "a1c122c0-9cd0-488a-bf6d-9a6bc9868d3e",
   "metadata": {
    "ExecutionIndicator": {
     "show": true
    },
    "execution": {
     "iopub.execute_input": "2024-03-19T09:08:31.037828Z",
     "iopub.status.busy": "2024-03-19T09:08:31.037321Z",
     "iopub.status.idle": "2024-03-19T09:08:31.042305Z",
     "shell.execute_reply": "2024-03-19T09:08:31.041464Z",
     "shell.execute_reply.started": "2024-03-19T09:08:31.037793Z"
    },
    "id": "zVvslsfMIrIh",
    "tags": []
   },
   "outputs": [],
   "source": [
    "# 根据你使用的模型和GPU资源情况，调整以下关键参数\n",
    "squad_v2 = True\n",
    "model_checkpoint = \"distilbert-base-uncased\"\n",
    "batch_size = 64\n",
    "\n",
    "# 数据集\n",
    "dataset_dir = \"/mnt/workspace/dataset\"\n",
    "dataset_squad_v2 = f\"{dataset_dir}/rajpurkar/squad_v2\"\n",
    "\n",
    "# 模型\n",
    "model_dir = \"/mnt/workspace/models\"\n",
    "model_distilbert_base_uncased = f\"{model_dir}/distilbert/distilbert-base-uncased/\"\n",
    "model_distilbert_base_uncased_output_dir = f\"{model_dir}/distilbert/distilbert-base-uncased-fine-tune-squad\""
   ]
  },
  {
   "cell_type": "markdown",
   "id": "4946ec91-7bee-4c41-8455-5d7527e9bb84",
   "metadata": {
    "id": "whPRbBNbIrIl",
    "tags": []
   },
   "source": [
    "## 2.加载 SQuAD 数据集"
   ]
  },
  {
   "cell_type": "code",
   "execution_count": 5,
   "id": "01711ff8-ae67-4816-b578-5a281e404c74",
   "metadata": {
    "ExecutionIndicator": {
     "show": true
    },
    "execution": {
     "iopub.execute_input": "2024-03-19T05:48:49.389204Z",
     "iopub.status.busy": "2024-03-19T05:48:49.388694Z",
     "iopub.status.idle": "2024-03-19T05:48:49.415978Z",
     "shell.execute_reply": "2024-03-19T05:48:49.415343Z",
     "shell.execute_reply.started": "2024-03-19T05:48:49.389169Z"
    },
    "id": "IreSlFmlIrIm",
    "tags": []
   },
   "outputs": [],
   "source": [
    "from datasets import load_dataset\n",
    "datasets = load_dataset(dataset_squad_v2)"
   ]
  },
  {
   "cell_type": "markdown",
   "id": "78b8c27a-c071-474d-a148-a541d37f9b72",
   "metadata": {
    "id": "RzfPtOMoIrIu"
   },
   "source": [
    "- The `datasets` object itself is [`DatasetDict`](https://huggingface.co/docs/datasets/package_reference/main_classes.html#datasetdict), which contains one key for the training, validation and test set."
   ]
  },
  {
   "cell_type": "code",
   "execution_count": 6,
   "id": "c2da9519-0702-4b06-a100-b9c227b077c7",
   "metadata": {
    "execution": {
     "iopub.execute_input": "2024-03-19T05:48:53.568155Z",
     "iopub.status.busy": "2024-03-19T05:48:53.567668Z",
     "iopub.status.idle": "2024-03-19T05:48:53.575045Z",
     "shell.execute_reply": "2024-03-19T05:48:53.574385Z",
     "shell.execute_reply.started": "2024-03-19T05:48:53.568125Z"
    },
    "id": "GWiVUF0jIrIv",
    "outputId": "35e3ea43-f397-4a54-c90c-f2cf8d36873e",
    "tags": []
   },
   "outputs": [
    {
     "data": {
      "text/plain": [
       "DatasetDict({\n",
       "    train: Dataset({\n",
       "        features: ['id', 'title', 'context', 'question', 'answers'],\n",
       "        num_rows: 130319\n",
       "    })\n",
       "    validation: Dataset({\n",
       "        features: ['id', 'title', 'context', 'question', 'answers'],\n",
       "        num_rows: 11873\n",
       "    })\n",
       "})"
      ]
     },
     "execution_count": 6,
     "metadata": {},
     "output_type": "execute_result"
    }
   ],
   "source": [
    "datasets"
   ]
  },
  {
   "cell_type": "markdown",
   "id": "bb12d32d-6af0-41a5-b6c2-511757bf28c1",
   "metadata": {},
   "source": [
    "- 随机看两个数据"
   ]
  },
  {
   "cell_type": "code",
   "execution_count": 7,
   "id": "2642e23d-c554-4397-ac4a-d65d7b809bf2",
   "metadata": {
    "execution": {
     "iopub.execute_input": "2024-03-19T05:50:42.043953Z",
     "iopub.status.busy": "2024-03-19T05:50:42.043459Z",
     "iopub.status.idle": "2024-03-19T05:50:42.051179Z",
     "shell.execute_reply": "2024-03-19T05:50:42.050076Z",
     "shell.execute_reply.started": "2024-03-19T05:50:42.043916Z"
    },
    "id": "i3j8APAoIrI3",
    "tags": []
   },
   "outputs": [],
   "source": [
    "from datasets import ClassLabel, Sequence\n",
    "import random\n",
    "import pandas as pd\n",
    "from IPython.display import display, HTML\n",
    "\n",
    "def show_random_elements(dataset, num_examples=10):\n",
    "    assert num_examples <= len(dataset), \"Can't pick more elements than there are in the dataset.\"\n",
    "    picks = []\n",
    "    for _ in range(num_examples):\n",
    "        pick = random.randint(0, len(dataset)-1)\n",
    "        while pick in picks:\n",
    "            pick = random.randint(0, len(dataset)-1)\n",
    "        picks.append(pick)\n",
    "    \n",
    "    df = pd.DataFrame(dataset[picks])\n",
    "    for column, typ in dataset.features.items():\n",
    "        if isinstance(typ, ClassLabel):\n",
    "            df[column] = df[column].transform(lambda i: typ.names[i])\n",
    "        elif isinstance(typ, Sequence) and isinstance(typ.feature, ClassLabel):\n",
    "            df[column] = df[column].transform(lambda x: [typ.feature.names[i] for i in x])\n",
    "    display(HTML(df.to_html()))"
   ]
  },
  {
   "cell_type": "code",
   "execution_count": 8,
   "id": "b1d03c7f-54d0-4657-bf42-38dfc414479a",
   "metadata": {
    "ExecutionIndicator": {
     "show": true
    },
    "execution": {
     "iopub.execute_input": "2024-03-19T05:50:50.858504Z",
     "iopub.status.busy": "2024-03-19T05:50:50.858025Z",
     "iopub.status.idle": "2024-03-19T05:50:50.867810Z",
     "shell.execute_reply": "2024-03-19T05:50:50.867193Z",
     "shell.execute_reply.started": "2024-03-19T05:50:50.858466Z"
    },
    "id": "SZy5tRB_IrI7",
    "outputId": "ba8f2124-e485-488f-8c0c-254f34f24f13",
    "tags": []
   },
   "outputs": [
    {
     "data": {
      "text/html": [
       "<table border=\"1\" class=\"dataframe\">\n",
       "  <thead>\n",
       "    <tr style=\"text-align: right;\">\n",
       "      <th></th>\n",
       "      <th>id</th>\n",
       "      <th>title</th>\n",
       "      <th>context</th>\n",
       "      <th>question</th>\n",
       "      <th>answers</th>\n",
       "    </tr>\n",
       "  </thead>\n",
       "  <tbody>\n",
       "    <tr>\n",
       "      <th>0</th>\n",
       "      <td>57324ffa0fdd8d15006c6961</td>\n",
       "      <td>The_Bronx</td>\n",
       "      <td>The Bronx contains one of the five poorest Congressional Districts in the United States, the 15th, but its wide diversity also includes affluent, upper-income and middle-income neighborhoods such as Riverdale, Fieldston, Spuyten Duyvil, Schuylerville, Pelham Bay, Pelham Gardens, Morris Park and Country Club. The Bronx, particularly the South Bronx, saw a sharp decline in population, livable housing, and the quality of life in the late 1960s and the 1970s, culminating in a wave of arson. Since then the communities have shown significant redevelopment starting in the late 1980s before picking up pace in the 1990s into today.</td>\n",
       "      <td>When did the South Bronx lose quality of life?</td>\n",
       "      <td>{'text': ['the late 1960s and the 1970s'], 'answer_start': [430]}</td>\n",
       "    </tr>\n",
       "  </tbody>\n",
       "</table>"
      ],
      "text/plain": [
       "<IPython.core.display.HTML object>"
      ]
     },
     "metadata": {},
     "output_type": "display_data"
    }
   ],
   "source": [
    "show_random_elements(datasets[\"train\"],num_examples=1)"
   ]
  },
  {
   "cell_type": "markdown",
   "id": "dfd90451-8f0d-4ae2-8e9b-47906733f748",
   "metadata": {
    "id": "n9qywopnIrJH",
    "tags": []
   },
   "source": [
    "## 3.预处理数据"
   ]
  },
  {
   "cell_type": "markdown",
   "id": "a259df1a-dd95-4e92-ac36-b67c57a7234b",
   "metadata": {},
   "source": [
    "- 加载模型"
   ]
  },
  {
   "cell_type": "code",
   "execution_count": 14,
   "id": "97625181-b6d6-4601-a4dc-b9eb6626f098",
   "metadata": {
    "ExecutionIndicator": {
     "show": true
    },
    "execution": {
     "iopub.execute_input": "2024-03-19T06:22:01.733411Z",
     "iopub.status.busy": "2024-03-19T06:22:01.732930Z",
     "iopub.status.idle": "2024-03-19T06:22:01.823099Z",
     "shell.execute_reply": "2024-03-19T06:22:01.822233Z",
     "shell.execute_reply.started": "2024-03-19T06:22:01.733382Z"
    },
    "id": "eXNLu_-nIrJI",
    "tags": []
   },
   "outputs": [],
   "source": [
    "from transformers import AutoTokenizer\n",
    "# /mnt/workspace/models/distilbert/distilbert-base-uncased\n",
    "tokenizer = AutoTokenizer.from_pretrained(model_distilbert_base_uncased)"
   ]
  },
  {
   "cell_type": "markdown",
   "id": "7a8bc36d-aa7a-478c-9a53-9e13613efaed",
   "metadata": {
    "id": "Vl6IidfdIrJK"
   },
   "source": [
    "- 以下断言确保我们的 Tokenizers 使用的是 FastTokenizer（Rust 实现，速度和功能性上有一定优势）。\n",
    "- 可以在大模型表上查看哪种类型的模型具有可用的快速标记器，哪种类型没有。"
   ]
  },
  {
   "cell_type": "code",
   "execution_count": 15,
   "id": "04e51873-09e9-4a76-a217-f9de17745089",
   "metadata": {
    "execution": {
     "iopub.execute_input": "2024-03-19T06:22:07.893168Z",
     "iopub.status.busy": "2024-03-19T06:22:07.892683Z",
     "iopub.status.idle": "2024-03-19T06:22:07.896945Z",
     "shell.execute_reply": "2024-03-19T06:22:07.896179Z",
     "shell.execute_reply.started": "2024-03-19T06:22:07.893138Z"
    },
    "tags": []
   },
   "outputs": [],
   "source": [
    "import transformers\n",
    "assert isinstance(tokenizer, transformers.PreTrainedTokenizerFast)"
   ]
  },
  {
   "cell_type": "markdown",
   "id": "d704d452-f246-4f04-99e9-949d714a37ea",
   "metadata": {},
   "source": [
    "- 您可以直接在两个句子上调用此标记器（一个用于答案，一个用于上下文）：\n",
    "- 'input_ids'： 这个键对应的值是一个整数列表，表示输入文本的标记化结果。每个整数对应于词汇表中的一个token（词或子词），101代表[CLS]（句子的开始），102代表[SEP]（句子的结束），其余的数字代表单词或子词在词汇表中的索引。\n",
    "- 'attention_mask'： 这个键对应的值是一个二进制列表，表示输入文本中哪些位置是有效的（值为1），哪些位置是填充的（值为0）。在这个例子中，所有的位置都是有效的，因此列表中的所有值都是1。"
   ]
  },
  {
   "cell_type": "code",
   "execution_count": 16,
   "id": "370cee38-e407-4579-bed9-18af0ace0647",
   "metadata": {
    "execution": {
     "iopub.execute_input": "2024-03-19T06:31:01.776720Z",
     "iopub.status.busy": "2024-03-19T06:31:01.776203Z",
     "iopub.status.idle": "2024-03-19T06:31:01.782319Z",
     "shell.execute_reply": "2024-03-19T06:31:01.781733Z",
     "shell.execute_reply.started": "2024-03-19T06:31:01.776687Z"
    },
    "id": "a5hBlsrHIrJL",
    "outputId": "acdaa98a-a8cd-4a20-89b8-cc26437bbe90",
    "tags": []
   },
   "outputs": [
    {
     "data": {
      "text/plain": [
       "{'input_ids': [101, 2054, 2003, 2115, 2171, 1029, 102, 2026, 2171, 2003, 25353, 22144, 2378, 1012, 102], 'attention_mask': [1, 1, 1, 1, 1, 1, 1, 1, 1, 1, 1, 1, 1, 1, 1]}"
      ]
     },
     "execution_count": 16,
     "metadata": {},
     "output_type": "execute_result"
    }
   ],
   "source": [
    "tokenizer(\"What is your name?\", \"My name is Sylvain.\")"
   ]
  },
  {
   "cell_type": "markdown",
   "id": "7370fdca-a45d-40e8-a0ef-086ab9a58b0c",
   "metadata": {},
   "source": [
    "### Tokenizer 进阶操作\n",
    "- 在问答预处理中的一个特定问题是如何处理非常长的文档。\n",
    "- 在其他任务中，当文档的长度超过模型最大句子长度时，我们通常会截断它们，但在这里，删除上下文的一部分可能会导致我们丢失正在寻找的答案。\n",
    "- 为了解决这个问题，我们允许数据集中的一个（长）示例生成多个输入特征，每个特征的长度都小于模型的最大长度（或我们设置的超参数）。"
   ]
  },
  {
   "cell_type": "code",
   "execution_count": 22,
   "id": "56d9a69c-a1a6-4b9d-88cf-af9a025fd194",
   "metadata": {
    "ExecutionIndicator": {
     "show": true
    },
    "execution": {
     "iopub.execute_input": "2024-03-19T07:03:38.416888Z",
     "iopub.status.busy": "2024-03-19T07:03:38.416378Z",
     "iopub.status.idle": "2024-03-19T07:03:38.420363Z",
     "shell.execute_reply": "2024-03-19T07:03:38.419699Z",
     "shell.execute_reply.started": "2024-03-19T07:03:38.416855Z"
    },
    "tags": []
   },
   "outputs": [],
   "source": [
    "# 文本序列最大长度\n",
    "max_length = 384\n",
    "# 拆分上下文时，拆分的重叠长度\n",
    "doc_stride = 128"
   ]
  },
  {
   "cell_type": "markdown",
   "id": "cdb2e1a8-cd25-4362-9e72-061159db03d7",
   "metadata": {},
   "source": [
    "#### 超出最大长度的文本数据处理\n",
    "\n",
    "下面，我们从训练集中找出一个超过最大长度（384）的文本："
   ]
  },
  {
   "cell_type": "code",
   "execution_count": 17,
   "id": "f95d3e34-2503-4d11-a380-b4437ad9357b",
   "metadata": {
    "execution": {
     "iopub.execute_input": "2024-03-19T06:58:10.619048Z",
     "iopub.status.busy": "2024-03-19T06:58:10.618547Z",
     "iopub.status.idle": "2024-03-19T06:58:10.766783Z",
     "shell.execute_reply": "2024-03-19T06:58:10.766017Z",
     "shell.execute_reply.started": "2024-03-19T06:58:10.619013Z"
    },
    "tags": []
   },
   "outputs": [],
   "source": [
    "for i, example in enumerate(datasets[\"train\"]):\n",
    "    if len(tokenizer(example[\"question\"], example[\"context\"])[\"input_ids\"]) > 384:\n",
    "        break\n",
    "# 挑选出来超过384（最大长度）的数据样例\n",
    "example = datasets[\"train\"][i]"
   ]
  },
  {
   "cell_type": "code",
   "execution_count": 19,
   "id": "665d8567-3f5c-4219-9f1f-31c2fb7b545c",
   "metadata": {
    "execution": {
     "iopub.execute_input": "2024-03-19T07:03:19.609793Z",
     "iopub.status.busy": "2024-03-19T07:03:19.609270Z",
     "iopub.status.idle": "2024-03-19T07:03:19.614869Z",
     "shell.execute_reply": "2024-03-19T07:03:19.614054Z",
     "shell.execute_reply.started": "2024-03-19T07:03:19.609759Z"
    },
    "tags": []
   },
   "outputs": [
    {
     "data": {
      "text/plain": [
       "{'id': '56be95823aeaaa14008c910c',\n",
       " 'title': 'Beyoncé',\n",
       " 'context': 'On April 4, 2008, Beyoncé married Jay Z. She publicly revealed their marriage in a video montage at the listening party for her third studio album, I Am... Sasha Fierce, in Manhattan\\'s Sony Club on October 22, 2008. I Am... Sasha Fierce was released on November 18, 2008 in the United States. The album formally introduces Beyoncé\\'s alter ego Sasha Fierce, conceived during the making of her 2003 single \"Crazy in Love\", selling 482,000 copies in its first week, debuting atop the Billboard 200, and giving Beyoncé her third consecutive number-one album in the US. The album featured the number-one song \"Single Ladies (Put a Ring on It)\" and the top-five songs \"If I Were a Boy\" and \"Halo\". Achieving the accomplishment of becoming her longest-running Hot 100 single in her career, \"Halo\"\\'s success in the US helped Beyoncé attain more top-ten singles on the list than any other woman during the 2000s. It also included the successful \"Sweet Dreams\", and singles \"Diva\", \"Ego\", \"Broken-Hearted Girl\" and \"Video Phone\". The music video for \"Single Ladies\" has been parodied and imitated around the world, spawning the \"first major dance craze\" of the Internet age according to the Toronto Star. The video has won several awards, including Best Video at the 2009 MTV Europe Music Awards, the 2009 Scottish MOBO Awards, and the 2009 BET Awards. At the 2009 MTV Video Music Awards, the video was nominated for nine awards, ultimately winning three including Video of the Year. Its failure to win the Best Female Video category, which went to American country pop singer Taylor Swift\\'s \"You Belong with Me\", led to Kanye West interrupting the ceremony and Beyoncé improvising a re-presentation of Swift\\'s award during her own acceptance speech. In March 2009, Beyoncé embarked on the I Am... World Tour, her second headlining worldwide concert tour, consisting of 108 shows, grossing $119.5 million.',\n",
       " 'question': 'Beyonce got married in 2008 to whom?',\n",
       " 'answers': {'text': ['Jay Z'], 'answer_start': [34]}}"
      ]
     },
     "execution_count": 19,
     "metadata": {},
     "output_type": "execute_result"
    }
   ],
   "source": [
    "example"
   ]
  },
  {
   "cell_type": "code",
   "execution_count": 20,
   "id": "61f168ad-7461-4b14-88f7-9b6e4dff4784",
   "metadata": {
    "execution": {
     "iopub.execute_input": "2024-03-19T07:03:28.068599Z",
     "iopub.status.busy": "2024-03-19T07:03:28.068114Z",
     "iopub.status.idle": "2024-03-19T07:03:28.074237Z",
     "shell.execute_reply": "2024-03-19T07:03:28.073649Z",
     "shell.execute_reply.started": "2024-03-19T07:03:28.068567Z"
    },
    "tags": []
   },
   "outputs": [
    {
     "data": {
      "text/plain": [
       "437"
      ]
     },
     "execution_count": 20,
     "metadata": {},
     "output_type": "execute_result"
    }
   ],
   "source": [
    "len(tokenizer(example[\"question\"], example[\"context\"])[\"input_ids\"])"
   ]
  },
  {
   "cell_type": "markdown",
   "id": "71d24078-c1ed-4cc3-b549-6b2770e2cd78",
   "metadata": {},
   "source": [
    "#### 截断上下文不保留超出部分"
   ]
  },
  {
   "cell_type": "code",
   "execution_count": 23,
   "id": "e789651b-871e-49a1-8f3f-2df50da7ff1e",
   "metadata": {
    "execution": {
     "iopub.execute_input": "2024-03-19T07:03:43.841774Z",
     "iopub.status.busy": "2024-03-19T07:03:43.841265Z",
     "iopub.status.idle": "2024-03-19T07:03:43.847577Z",
     "shell.execute_reply": "2024-03-19T07:03:43.846995Z",
     "shell.execute_reply.started": "2024-03-19T07:03:43.841732Z"
    },
    "tags": []
   },
   "outputs": [
    {
     "data": {
      "text/plain": [
       "384"
      ]
     },
     "execution_count": 23,
     "metadata": {},
     "output_type": "execute_result"
    }
   ],
   "source": [
    "len(tokenizer(example[\"question\"],\n",
    "              example[\"context\"],\n",
    "              max_length=max_length,\n",
    "              truncation=\"only_second\")[\"input_ids\"])"
   ]
  },
  {
   "cell_type": "markdown",
   "id": "ee636ad5-5268-472a-9936-a012d6fd6dbc",
   "metadata": {},
   "source": [
    "#### 关于截断的策略\n",
    "\n",
    "- 直接截断超出部分: truncation=`only_second`\n",
    "- 仅截断上下文（context），保留问题（question）：`return_overflowing_tokens=True` & 设置`stride`\n"
   ]
  },
  {
   "cell_type": "code",
   "execution_count": 28,
   "id": "ce1fccc4-5fb0-4623-97e1-f71dfe800f72",
   "metadata": {
    "ExecutionIndicator": {
     "show": true
    },
    "execution": {
     "iopub.execute_input": "2024-03-19T07:25:12.430556Z",
     "iopub.status.busy": "2024-03-19T07:25:12.430046Z",
     "iopub.status.idle": "2024-03-19T07:25:12.436454Z",
     "shell.execute_reply": "2024-03-19T07:25:12.435551Z",
     "shell.execute_reply.started": "2024-03-19T07:25:12.430521Z"
    },
    "tags": []
   },
   "outputs": [],
   "source": [
    "# {'input_ids': [[...]], 'attention_mask': [[...]], 'overflow_to_sample_mapping': [0, 0]}\n",
    "tokenized_example = tokenizer(\n",
    "    example[\"question\"],\n",
    "    example[\"context\"],\n",
    "    max_length=max_length,\n",
    "    truncation=\"only_second\",\n",
    "    return_overflowing_tokens=True,\n",
    "    stride=doc_stride\n",
    ")"
   ]
  },
  {
   "cell_type": "markdown",
   "id": "6b2bbf90-77ad-4edc-9abe-046175471448",
   "metadata": {},
   "source": [
    "使用此策略截断后，Tokenizer 将返回多个 `input_ids` 列表。"
   ]
  },
  {
   "cell_type": "code",
   "execution_count": 25,
   "id": "15be1d52-d500-4ffb-9fd4-c891e8cdd21a",
   "metadata": {
    "execution": {
     "iopub.execute_input": "2024-03-19T07:04:45.360721Z",
     "iopub.status.busy": "2024-03-19T07:04:45.360183Z",
     "iopub.status.idle": "2024-03-19T07:04:45.365911Z",
     "shell.execute_reply": "2024-03-19T07:04:45.365246Z",
     "shell.execute_reply.started": "2024-03-19T07:04:45.360688Z"
    },
    "tags": []
   },
   "outputs": [
    {
     "data": {
      "text/plain": [
       "[384, 192]"
      ]
     },
     "execution_count": 25,
     "metadata": {},
     "output_type": "execute_result"
    }
   ],
   "source": [
    "[len(x) for x in tokenized_example[\"input_ids\"]]"
   ]
  },
  {
   "cell_type": "markdown",
   "id": "c18a5413-0bc2-40cb-a3ef-431e84c31193",
   "metadata": {},
   "source": [
    "解码两个输入特征，可以看到重叠的部分："
   ]
  },
  {
   "cell_type": "code",
   "execution_count": 26,
   "id": "51de78d5-4d07-4def-a234-29e101ab95af",
   "metadata": {
    "execution": {
     "iopub.execute_input": "2024-03-19T07:05:10.497729Z",
     "iopub.status.busy": "2024-03-19T07:05:10.497213Z",
     "iopub.status.idle": "2024-03-19T07:05:14.863110Z",
     "shell.execute_reply": "2024-03-19T07:05:14.862349Z",
     "shell.execute_reply.started": "2024-03-19T07:05:10.497692Z"
    },
    "tags": []
   },
   "outputs": [
    {
     "name": "stderr",
     "output_type": "stream",
     "text": [
      "2024-03-19 15:05:11.183943: I tensorflow/tsl/cuda/cudart_stub.cc:28] Could not find cuda drivers on your machine, GPU will not be used.\n",
      "2024-03-19 15:05:11.637270: E tensorflow/compiler/xla/stream_executor/cuda/cuda_dnn.cc:9342] Unable to register cuDNN factory: Attempting to register factory for plugin cuDNN when one has already been registered\n",
      "2024-03-19 15:05:11.637306: E tensorflow/compiler/xla/stream_executor/cuda/cuda_fft.cc:609] Unable to register cuFFT factory: Attempting to register factory for plugin cuFFT when one has already been registered\n",
      "2024-03-19 15:05:11.639825: E tensorflow/compiler/xla/stream_executor/cuda/cuda_blas.cc:1518] Unable to register cuBLAS factory: Attempting to register factory for plugin cuBLAS when one has already been registered\n",
      "2024-03-19 15:05:12.000732: I tensorflow/tsl/cuda/cudart_stub.cc:28] Could not find cuda drivers on your machine, GPU will not be used.\n",
      "2024-03-19 15:05:12.002838: I tensorflow/core/platform/cpu_feature_guard.cc:182] This TensorFlow binary is optimized to use available CPU instructions in performance-critical operations.\n",
      "To enable the following instructions: AVX2 AVX512F FMA, in other operations, rebuild TensorFlow with the appropriate compiler flags.\n",
      "2024-03-19 15:05:13.782486: W tensorflow/compiler/tf2tensorrt/utils/py_utils.cc:38] TF-TRT Warning: Could not find TensorRT\n"
     ]
    },
    {
     "name": "stdout",
     "output_type": "stream",
     "text": [
      "[CLS] beyonce got married in 2008 to whom? [SEP] on april 4, 2008, beyonce married jay z. she publicly revealed their marriage in a video montage at the listening party for her third studio album, i am... sasha fierce, in manhattan's sony club on october 22, 2008. i am... sasha fierce was released on november 18, 2008 in the united states. the album formally introduces beyonce's alter ego sasha fierce, conceived during the making of her 2003 single \" crazy in love \", selling 482, 000 copies in its first week, debuting atop the billboard 200, and giving beyonce her third consecutive number - one album in the us. the album featured the number - one song \" single ladies ( put a ring on it ) \" and the top - five songs \" if i were a boy \" and \" halo \". achieving the accomplishment of becoming her longest - running hot 100 single in her career, \" halo \"'s success in the us helped beyonce attain more top - ten singles on the list than any other woman during the 2000s. it also included the successful \" sweet dreams \", and singles \" diva \", \" ego \", \" broken - hearted girl \" and \" video phone \". the music video for \" single ladies \" has been parodied and imitated around the world, spawning the \" first major dance craze \" of the internet age according to the toronto star. the video has won several awards, including best video at the 2009 mtv europe music awards, the 2009 scottish mobo awards, and the 2009 bet awards. at the 2009 mtv video music awards, the video was nominated for nine awards, ultimately winning three including video of the year. its failure to win the best female video category, which went to american country pop singer taylor swift's \" you belong with me \", led to kanye west interrupting the ceremony and beyonce [SEP]\n",
      "[CLS] beyonce got married in 2008 to whom? [SEP] single ladies \" has been parodied and imitated around the world, spawning the \" first major dance craze \" of the internet age according to the toronto star. the video has won several awards, including best video at the 2009 mtv europe music awards, the 2009 scottish mobo awards, and the 2009 bet awards. at the 2009 mtv video music awards, the video was nominated for nine awards, ultimately winning three including video of the year. its failure to win the best female video category, which went to american country pop singer taylor swift's \" you belong with me \", led to kanye west interrupting the ceremony and beyonce improvising a re - presentation of swift's award during her own acceptance speech. in march 2009, beyonce embarked on the i am... world tour, her second headlining worldwide concert tour, consisting of 108 shows, grossing $ 119. 5 million. [SEP]\n"
     ]
    }
   ],
   "source": [
    "for x in tokenized_example[\"input_ids\"][:2]:\n",
    "    print(tokenizer.decode(x))"
   ]
  },
  {
   "cell_type": "markdown",
   "id": "b3f6a040-1cde-4fb9-aaa5-68f4ba4089d3",
   "metadata": {},
   "source": [
    "#### 使用`return_offsets_mapping`获取原始的 input_ids\n",
    "\n",
    "- 设置 `return_offsets_mapping=True`，\n",
    "- 将使得截断分割生成的多个`input_ids`列表中的`token`，通过映射保留原始文本的`input_ids`。\n",
    "- 提供了一种方便的方式来获取标记化结果与原始文本之间的字符级别对应关系，但只能在使用快速`Tokenizer`并且继承自`PreTrainedTokenizerFast`的情况下才能使用\n",
    "\n",
    "如下所示：第一个标记（[CLS]）的起始和结束字符都是（0, 0），因为它不对应问题/答案的任何部分，然后第二个标记与问题(question)的字符0到3相同."
   ]
  },
  {
   "cell_type": "code",
   "execution_count": 35,
   "id": "d7241e99-3abd-4a4c-9531-049ff91f498d",
   "metadata": {
    "ExecutionIndicator": {
     "show": true
    },
    "execution": {
     "iopub.execute_input": "2024-03-19T07:35:10.265510Z",
     "iopub.status.busy": "2024-03-19T07:35:10.265024Z",
     "iopub.status.idle": "2024-03-19T07:35:10.271192Z",
     "shell.execute_reply": "2024-03-19T07:35:10.270398Z",
     "shell.execute_reply.started": "2024-03-19T07:35:10.265479Z"
    },
    "tags": []
   },
   "outputs": [],
   "source": [
    "# 标记后的数据格式 {'input_ids': [[...]], 'attention_mask': [[...]], 'offset_mapping': [[ ...],[...]],'overflow_to_sample_mapping': [0, 0]}\n",
    "tokenized_example = tokenizer(\n",
    "    example[\"question\"],\n",
    "    example[\"context\"],\n",
    "    max_length=max_length,\n",
    "    truncation=\"only_second\",\n",
    "    return_overflowing_tokens=True,\n",
    "    return_offsets_mapping=True,\n",
    "    stride=doc_stride\n",
    ")"
   ]
  },
  {
   "cell_type": "markdown",
   "id": "df860c65-59d6-4969-8fba-1cdf7a31eed0",
   "metadata": {},
   "source": [
    "- 看看offset_mapping长什么样，只看部分就行"
   ]
  },
  {
   "cell_type": "code",
   "execution_count": 37,
   "id": "038e875a-3fd1-4dba-8954-175dab6f82ce",
   "metadata": {
    "ExecutionIndicator": {
     "show": true
    },
    "execution": {
     "iopub.execute_input": "2024-03-19T07:35:20.795826Z",
     "iopub.status.busy": "2024-03-19T07:35:20.795322Z",
     "iopub.status.idle": "2024-03-19T07:35:20.800498Z",
     "shell.execute_reply": "2024-03-19T07:35:20.799581Z",
     "shell.execute_reply.started": "2024-03-19T07:35:20.795795Z"
    },
    "tags": []
   },
   "outputs": [
    {
     "name": "stdout",
     "output_type": "stream",
     "text": [
      "[(0, 0), (0, 7), (8, 11), (12, 19), (20, 22), (23, 27), (28, 30), (31, 35), (35, 36), (0, 0), (0, 2), (3, 8), (9, 10), (10, 11), (12, 16), (16, 17), (18, 25), (26, 33), (34, 37), (38, 39), (39, 40), (41, 44), (45, 53), (54, 62), (63, 68), (69, 77), (78, 80), (81, 82), (83, 88), (89, 93), (93, 96), (97, 99), (100, 103), (104, 113), (114, 119), (120, 123), (124, 127), (128, 133), (134, 140), (141, 146), (146, 147), (148, 149), (150, 152), (152, 153), (153, 154), (154, 155), (156, 161), (162, 168), (168, 169), (170, 172)]\n"
     ]
    }
   ],
   "source": [
    "print(tokenized_example[\"offset_mapping\"][0][:50])"
   ]
  },
  {
   "cell_type": "markdown",
   "id": "b899f94e-7745-4379-980d-954b5c8797dd",
   "metadata": {},
   "source": [
    "- 因此，我们可以使用这个映射来找到答案在给定特征中的起始和结束标记的位置。\n",
    "- 我们只需区分偏移的哪些部分对应于问题，哪些部分对应于上下文。"
   ]
  },
  {
   "cell_type": "code",
   "execution_count": 38,
   "id": "d2ebbe41-eeb2-444b-bcf2-22c1f897b217",
   "metadata": {
    "ExecutionIndicator": {
     "show": true
    },
    "execution": {
     "iopub.execute_input": "2024-03-19T07:36:36.564389Z",
     "iopub.status.busy": "2024-03-19T07:36:36.563888Z",
     "iopub.status.idle": "2024-03-19T07:36:36.569894Z",
     "shell.execute_reply": "2024-03-19T07:36:36.568888Z",
     "shell.execute_reply.started": "2024-03-19T07:36:36.564358Z"
    },
    "tags": []
   },
   "outputs": [
    {
     "name": "stdout",
     "output_type": "stream",
     "text": [
      "20773\n",
      "(0, 7)\n",
      "beyonce Beyonce\n"
     ]
    }
   ],
   "source": [
    "first_token_id = tokenized_example[\"input_ids\"][0][1]\n",
    "print(first_token_id)\n",
    "offsets = tokenized_example[\"offset_mapping\"][0][1]\n",
    "print(offsets)\n",
    "print(tokenizer.convert_ids_to_tokens([first_token_id])[0], example[\"question\"][offsets[0]:offsets[1]])"
   ]
  },
  {
   "cell_type": "code",
   "execution_count": 40,
   "id": "e0aad799-f658-432f-b6ef-e6f4702ec3a2",
   "metadata": {
    "ExecutionIndicator": {
     "show": true
    },
    "execution": {
     "iopub.execute_input": "2024-03-19T07:37:06.379341Z",
     "iopub.status.busy": "2024-03-19T07:37:06.378840Z",
     "iopub.status.idle": "2024-03-19T07:37:06.384463Z",
     "shell.execute_reply": "2024-03-19T07:37:06.383653Z",
     "shell.execute_reply.started": "2024-03-19T07:37:06.379306Z"
    },
    "tags": []
   },
   "outputs": [
    {
     "name": "stdout",
     "output_type": "stream",
     "text": [
      "2288\n",
      "(8, 11)\n",
      "got got\n"
     ]
    }
   ],
   "source": [
    "second_token_id = tokenized_example[\"input_ids\"][0][2]\n",
    "print(second_token_id)\n",
    "offsets = tokenized_example[\"offset_mapping\"][0][2]\n",
    "print(offsets)\n",
    "print(tokenizer.convert_ids_to_tokens([second_token_id])[0], example[\"question\"][offsets[0]:offsets[1]])"
   ]
  },
  {
   "cell_type": "code",
   "execution_count": 41,
   "id": "66d93dee-2e07-4361-a13c-27a8884d9377",
   "metadata": {
    "execution": {
     "iopub.execute_input": "2024-03-19T07:37:15.945964Z",
     "iopub.status.busy": "2024-03-19T07:37:15.945462Z",
     "iopub.status.idle": "2024-03-19T07:37:15.950744Z",
     "shell.execute_reply": "2024-03-19T07:37:15.950031Z",
     "shell.execute_reply.started": "2024-03-19T07:37:15.945933Z"
    },
    "tags": []
   },
   "outputs": [
    {
     "data": {
      "text/plain": [
       "'Beyonce got married in 2008 to whom?'"
      ]
     },
     "execution_count": 41,
     "metadata": {},
     "output_type": "execute_result"
    }
   ],
   "source": [
    "example[\"question\"]"
   ]
  },
  {
   "cell_type": "markdown",
   "id": "9f7679f2-7ce9-40bc-92e5-c7b50fcfa7db",
   "metadata": {},
   "source": [
    "借助`tokenized_example`的`sequence_ids`方法，我们可以方便的区分token的来源编号：\n",
    "\n",
    "- 对于特殊标记：返回None，\n",
    "- 对于正文Token：返回句子编号（从0开始编号）。\n",
    "\n",
    "综上，现在我们可以很方便的在一个输入特征中找到答案的起始和结束 Token。\n",
    "- sequence_ids文档如下\n",
    "- https://huggingface.co/docs/transformers/v4.36.1/en/main_classes/tokenizer#transformers.BatchEncoding.sequence_ids"
   ]
  },
  {
   "cell_type": "code",
   "execution_count": 43,
   "id": "375ab6f3-e9e7-446f-8a6b-6b4834dcc686",
   "metadata": {
    "execution": {
     "iopub.execute_input": "2024-03-19T07:45:10.291985Z",
     "iopub.status.busy": "2024-03-19T07:45:10.291489Z",
     "iopub.status.idle": "2024-03-19T07:45:10.296172Z",
     "shell.execute_reply": "2024-03-19T07:45:10.295414Z",
     "shell.execute_reply.started": "2024-03-19T07:45:10.291951Z"
    },
    "tags": []
   },
   "outputs": [
    {
     "name": "stdout",
     "output_type": "stream",
     "text": [
      "[None, 0, 0, 0, 0, 0, 0, 0, 0, None, 1, 1, 1, 1, 1, 1, 1, 1, 1, 1, 1, 1, 1, 1, 1, 1, 1, 1, 1, 1, 1, 1, 1, 1, 1, 1, 1, 1, 1, 1, 1, 1, 1, 1, 1, 1, 1, 1, 1, 1, 1, 1, 1, 1, 1, 1, 1, 1, 1, 1, 1, 1, 1, 1, 1, 1, 1, 1, 1, 1, 1, 1, 1, 1, 1, 1, 1, 1, 1, 1, 1, 1, 1, 1, 1, 1, 1, 1, 1, 1, 1, 1, 1, 1, 1, 1, 1, 1, 1, 1, 1, 1, 1, 1, 1, 1, 1, 1, 1, 1, 1, 1, 1, 1, 1, 1, 1, 1, 1, 1, 1, 1, 1, 1, 1, 1, 1, 1, 1, 1, 1, 1, 1, 1, 1, 1, 1, 1, 1, 1, 1, 1, 1, 1, 1, 1, 1, 1, 1, 1, 1, 1, 1, 1, 1, 1, 1, 1, 1, 1, 1, 1, 1, 1, 1, 1, 1, 1, 1, 1, 1, 1, 1, 1, 1, 1, 1, 1, 1, 1, 1, 1, 1, 1, 1, 1, 1, 1, 1, 1, 1, 1, 1, 1, 1, 1, 1, 1, 1, 1, 1, 1, 1, 1, 1, 1, 1, 1, 1, 1, 1, 1, 1, 1, 1, 1, 1, 1, 1, 1, 1, 1, 1, 1, 1, 1, 1, 1, 1, 1, 1, 1, 1, 1, 1, 1, 1, 1, 1, 1, 1, 1, 1, 1, 1, 1, 1, 1, 1, 1, 1, 1, 1, 1, 1, 1, 1, 1, 1, 1, 1, 1, 1, 1, 1, 1, 1, 1, 1, 1, 1, 1, 1, 1, 1, 1, 1, 1, 1, 1, 1, 1, 1, 1, 1, 1, 1, 1, 1, 1, 1, 1, 1, 1, 1, 1, 1, 1, 1, 1, 1, 1, 1, 1, 1, 1, 1, 1, 1, 1, 1, 1, 1, 1, 1, 1, 1, 1, 1, 1, 1, 1, 1, 1, 1, 1, 1, 1, 1, 1, 1, 1, 1, 1, 1, 1, 1, 1, 1, 1, 1, 1, 1, 1, 1, 1, 1, 1, 1, 1, 1, 1, 1, 1, 1, 1, 1, 1, 1, 1, 1, 1, 1, 1, 1, 1, 1, 1, 1, 1, 1, 1, 1, 1, 1, 1, 1, 1, 1, 1, 1, 1, 1, None]\n"
     ]
    }
   ],
   "source": [
    "sequence_ids = tokenized_example.sequence_ids()\n",
    "print(sequence_ids)"
   ]
  },
  {
   "cell_type": "markdown",
   "id": "7042c5a1-7484-45bb-adfb-3160b79ea779",
   "metadata": {},
   "source": [
    "- 回顾下上面两个结果"
   ]
  },
  {
   "cell_type": "code",
   "execution_count": 47,
   "id": "448296e4-0f53-4d32-9885-7bb69bbdd4d7",
   "metadata": {
    "execution": {
     "iopub.execute_input": "2024-03-19T08:00:34.585870Z",
     "iopub.status.busy": "2024-03-19T08:00:34.585399Z",
     "iopub.status.idle": "2024-03-19T08:00:34.590765Z",
     "shell.execute_reply": "2024-03-19T08:00:34.590049Z",
     "shell.execute_reply.started": "2024-03-19T08:00:34.585840Z"
    },
    "tags": []
   },
   "outputs": [
    {
     "data": {
      "text/plain": [
       "{'id': '56be95823aeaaa14008c910c',\n",
       " 'title': 'Beyoncé',\n",
       " 'context': 'On April 4, 2008, Beyoncé married Jay Z. She publicly revealed their marriage in a video montage at the listening party for her third studio album, I Am... Sasha Fierce, in Manhattan\\'s Sony Club on October 22, 2008. I Am... Sasha Fierce was released on November 18, 2008 in the United States. The album formally introduces Beyoncé\\'s alter ego Sasha Fierce, conceived during the making of her 2003 single \"Crazy in Love\", selling 482,000 copies in its first week, debuting atop the Billboard 200, and giving Beyoncé her third consecutive number-one album in the US. The album featured the number-one song \"Single Ladies (Put a Ring on It)\" and the top-five songs \"If I Were a Boy\" and \"Halo\". Achieving the accomplishment of becoming her longest-running Hot 100 single in her career, \"Halo\"\\'s success in the US helped Beyoncé attain more top-ten singles on the list than any other woman during the 2000s. It also included the successful \"Sweet Dreams\", and singles \"Diva\", \"Ego\", \"Broken-Hearted Girl\" and \"Video Phone\". The music video for \"Single Ladies\" has been parodied and imitated around the world, spawning the \"first major dance craze\" of the Internet age according to the Toronto Star. The video has won several awards, including Best Video at the 2009 MTV Europe Music Awards, the 2009 Scottish MOBO Awards, and the 2009 BET Awards. At the 2009 MTV Video Music Awards, the video was nominated for nine awards, ultimately winning three including Video of the Year. Its failure to win the Best Female Video category, which went to American country pop singer Taylor Swift\\'s \"You Belong with Me\", led to Kanye West interrupting the ceremony and Beyoncé improvising a re-presentation of Swift\\'s award during her own acceptance speech. In March 2009, Beyoncé embarked on the I Am... World Tour, her second headlining worldwide concert tour, consisting of 108 shows, grossing $119.5 million.',\n",
       " 'question': 'Beyonce got married in 2008 to whom?',\n",
       " 'answers': {'text': ['Jay Z'], 'answer_start': [34]}}"
      ]
     },
     "execution_count": 47,
     "metadata": {},
     "output_type": "execute_result"
    }
   ],
   "source": [
    "example"
   ]
  },
  {
   "cell_type": "code",
   "execution_count": 48,
   "id": "5d172066-2fe8-4912-bc59-246b0ba95b55",
   "metadata": {
    "execution": {
     "iopub.execute_input": "2024-03-19T08:00:36.706552Z",
     "iopub.status.busy": "2024-03-19T08:00:36.706051Z",
     "iopub.status.idle": "2024-03-19T08:00:36.711984Z",
     "shell.execute_reply": "2024-03-19T08:00:36.711161Z",
     "shell.execute_reply.started": "2024-03-19T08:00:36.706518Z"
    },
    "tags": []
   },
   "outputs": [
    {
     "data": {
      "text/plain": [
       "{'input_ids': [[101, 20773, 2288, 2496, 1999, 2263, 2000, 3183, 1029, 102, 2006, 2258, 1018, 1010, 2263, 1010, 20773, 2496, 6108, 1062, 1012, 2016, 7271, 3936, 2037, 3510, 1999, 1037, 2678, 18318, 4270, 2012, 1996, 5962, 2283, 2005, 2014, 2353, 2996, 2201, 1010, 1045, 2572, 1012, 1012, 1012, 14673, 9205, 1010, 1999, 7128, 1005, 1055, 8412, 2252, 2006, 2255, 2570, 1010, 2263, 1012, 1045, 2572, 1012, 1012, 1012, 14673, 9205, 2001, 2207, 2006, 2281, 2324, 1010, 2263, 1999, 1996, 2142, 2163, 1012, 1996, 2201, 6246, 13999, 20773, 1005, 1055, 11477, 13059, 14673, 9205, 1010, 10141, 2076, 1996, 2437, 1997, 2014, 2494, 2309, 1000, 4689, 1999, 2293, 1000, 1010, 4855, 4466, 2475, 1010, 2199, 4809, 1999, 2049, 2034, 2733, 1010, 24469, 10234, 1996, 4908, 3263, 1010, 1998, 3228, 20773, 2014, 2353, 5486, 2193, 1011, 2028, 2201, 1999, 1996, 2149, 1012, 1996, 2201, 2956, 1996, 2193, 1011, 2028, 2299, 1000, 2309, 6456, 1006, 2404, 1037, 3614, 2006, 2009, 1007, 1000, 1998, 1996, 2327, 1011, 2274, 2774, 1000, 2065, 1045, 2020, 1037, 2879, 1000, 1998, 1000, 17201, 1000, 1012, 10910, 1996, 24718, 1997, 3352, 2014, 6493, 1011, 2770, 2980, 2531, 2309, 1999, 2014, 2476, 1010, 1000, 17201, 1000, 1005, 1055, 3112, 1999, 1996, 2149, 3271, 20773, 18759, 2062, 2327, 1011, 2702, 3895, 2006, 1996, 2862, 2084, 2151, 2060, 2450, 2076, 1996, 8876, 1012, 2009, 2036, 2443, 1996, 3144, 1000, 4086, 5544, 1000, 1010, 1998, 3895, 1000, 25992, 1000, 1010, 1000, 13059, 1000, 1010, 1000, 3714, 1011, 18627, 2611, 1000, 1998, 1000, 2678, 3042, 1000, 1012, 1996, 2189, 2678, 2005, 1000, 2309, 6456, 1000, 2038, 2042, 11968, 7716, 6340, 1998, 10047, 15198, 2105, 1996, 2088, 1010, 27957, 1996, 1000, 2034, 2350, 3153, 13675, 10936, 2063, 1000, 1997, 1996, 4274, 2287, 2429, 2000, 1996, 4361, 2732, 1012, 1996, 2678, 2038, 2180, 2195, 2982, 1010, 2164, 2190, 2678, 2012, 1996, 2268, 8692, 2885, 2189, 2982, 1010, 1996, 2268, 4104, 11240, 2080, 2982, 1010, 1998, 1996, 2268, 6655, 2982, 1012, 2012, 1996, 2268, 8692, 2678, 2189, 2982, 1010, 1996, 2678, 2001, 4222, 2005, 3157, 2982, 1010, 4821, 3045, 2093, 2164, 2678, 1997, 1996, 2095, 1012, 2049, 4945, 2000, 2663, 1996, 2190, 2931, 2678, 4696, 1010, 2029, 2253, 2000, 2137, 2406, 3769, 3220, 4202, 9170, 1005, 1055, 1000, 2017, 7141, 2007, 2033, 1000, 1010, 2419, 2000, 29270, 2225, 22602, 1996, 5103, 1998, 20773, 102], [101, 20773, 2288, 2496, 1999, 2263, 2000, 3183, 1029, 102, 2309, 6456, 1000, 2038, 2042, 11968, 7716, 6340, 1998, 10047, 15198, 2105, 1996, 2088, 1010, 27957, 1996, 1000, 2034, 2350, 3153, 13675, 10936, 2063, 1000, 1997, 1996, 4274, 2287, 2429, 2000, 1996, 4361, 2732, 1012, 1996, 2678, 2038, 2180, 2195, 2982, 1010, 2164, 2190, 2678, 2012, 1996, 2268, 8692, 2885, 2189, 2982, 1010, 1996, 2268, 4104, 11240, 2080, 2982, 1010, 1998, 1996, 2268, 6655, 2982, 1012, 2012, 1996, 2268, 8692, 2678, 2189, 2982, 1010, 1996, 2678, 2001, 4222, 2005, 3157, 2982, 1010, 4821, 3045, 2093, 2164, 2678, 1997, 1996, 2095, 1012, 2049, 4945, 2000, 2663, 1996, 2190, 2931, 2678, 4696, 1010, 2029, 2253, 2000, 2137, 2406, 3769, 3220, 4202, 9170, 1005, 1055, 1000, 2017, 7141, 2007, 2033, 1000, 1010, 2419, 2000, 29270, 2225, 22602, 1996, 5103, 1998, 20773, 17727, 12298, 9355, 1037, 2128, 1011, 8312, 1997, 9170, 1005, 1055, 2400, 2076, 2014, 2219, 9920, 4613, 1012, 1999, 2233, 2268, 1010, 20773, 11299, 2006, 1996, 1045, 2572, 1012, 1012, 1012, 2088, 2778, 1010, 2014, 2117, 26533, 4969, 4164, 2778, 1010, 5398, 1997, 10715, 3065, 1010, 18244, 1002, 13285, 1012, 1019, 2454, 1012, 102]], 'attention_mask': [[1, 1, 1, 1, 1, 1, 1, 1, 1, 1, 1, 1, 1, 1, 1, 1, 1, 1, 1, 1, 1, 1, 1, 1, 1, 1, 1, 1, 1, 1, 1, 1, 1, 1, 1, 1, 1, 1, 1, 1, 1, 1, 1, 1, 1, 1, 1, 1, 1, 1, 1, 1, 1, 1, 1, 1, 1, 1, 1, 1, 1, 1, 1, 1, 1, 1, 1, 1, 1, 1, 1, 1, 1, 1, 1, 1, 1, 1, 1, 1, 1, 1, 1, 1, 1, 1, 1, 1, 1, 1, 1, 1, 1, 1, 1, 1, 1, 1, 1, 1, 1, 1, 1, 1, 1, 1, 1, 1, 1, 1, 1, 1, 1, 1, 1, 1, 1, 1, 1, 1, 1, 1, 1, 1, 1, 1, 1, 1, 1, 1, 1, 1, 1, 1, 1, 1, 1, 1, 1, 1, 1, 1, 1, 1, 1, 1, 1, 1, 1, 1, 1, 1, 1, 1, 1, 1, 1, 1, 1, 1, 1, 1, 1, 1, 1, 1, 1, 1, 1, 1, 1, 1, 1, 1, 1, 1, 1, 1, 1, 1, 1, 1, 1, 1, 1, 1, 1, 1, 1, 1, 1, 1, 1, 1, 1, 1, 1, 1, 1, 1, 1, 1, 1, 1, 1, 1, 1, 1, 1, 1, 1, 1, 1, 1, 1, 1, 1, 1, 1, 1, 1, 1, 1, 1, 1, 1, 1, 1, 1, 1, 1, 1, 1, 1, 1, 1, 1, 1, 1, 1, 1, 1, 1, 1, 1, 1, 1, 1, 1, 1, 1, 1, 1, 1, 1, 1, 1, 1, 1, 1, 1, 1, 1, 1, 1, 1, 1, 1, 1, 1, 1, 1, 1, 1, 1, 1, 1, 1, 1, 1, 1, 1, 1, 1, 1, 1, 1, 1, 1, 1, 1, 1, 1, 1, 1, 1, 1, 1, 1, 1, 1, 1, 1, 1, 1, 1, 1, 1, 1, 1, 1, 1, 1, 1, 1, 1, 1, 1, 1, 1, 1, 1, 1, 1, 1, 1, 1, 1, 1, 1, 1, 1, 1, 1, 1, 1, 1, 1, 1, 1, 1, 1, 1, 1, 1, 1, 1, 1, 1, 1, 1, 1, 1, 1, 1, 1, 1, 1, 1, 1, 1, 1, 1, 1, 1, 1, 1, 1, 1, 1, 1, 1, 1, 1, 1, 1, 1, 1, 1, 1, 1, 1, 1, 1], [1, 1, 1, 1, 1, 1, 1, 1, 1, 1, 1, 1, 1, 1, 1, 1, 1, 1, 1, 1, 1, 1, 1, 1, 1, 1, 1, 1, 1, 1, 1, 1, 1, 1, 1, 1, 1, 1, 1, 1, 1, 1, 1, 1, 1, 1, 1, 1, 1, 1, 1, 1, 1, 1, 1, 1, 1, 1, 1, 1, 1, 1, 1, 1, 1, 1, 1, 1, 1, 1, 1, 1, 1, 1, 1, 1, 1, 1, 1, 1, 1, 1, 1, 1, 1, 1, 1, 1, 1, 1, 1, 1, 1, 1, 1, 1, 1, 1, 1, 1, 1, 1, 1, 1, 1, 1, 1, 1, 1, 1, 1, 1, 1, 1, 1, 1, 1, 1, 1, 1, 1, 1, 1, 1, 1, 1, 1, 1, 1, 1, 1, 1, 1, 1, 1, 1, 1, 1, 1, 1, 1, 1, 1, 1, 1, 1, 1, 1, 1, 1, 1, 1, 1, 1, 1, 1, 1, 1, 1, 1, 1, 1, 1, 1, 1, 1, 1, 1, 1, 1, 1, 1, 1, 1, 1, 1, 1, 1, 1, 1, 1, 1, 1, 1, 1, 1, 1, 1, 1, 1, 1, 1]], 'offset_mapping': [[(0, 0), (0, 7), (8, 11), (12, 19), (20, 22), (23, 27), (28, 30), (31, 35), (35, 36), (0, 0), (0, 2), (3, 8), (9, 10), (10, 11), (12, 16), (16, 17), (18, 25), (26, 33), (34, 37), (38, 39), (39, 40), (41, 44), (45, 53), (54, 62), (63, 68), (69, 77), (78, 80), (81, 82), (83, 88), (89, 93), (93, 96), (97, 99), (100, 103), (104, 113), (114, 119), (120, 123), (124, 127), (128, 133), (134, 140), (141, 146), (146, 147), (148, 149), (150, 152), (152, 153), (153, 154), (154, 155), (156, 161), (162, 168), (168, 169), (170, 172), (173, 182), (182, 183), (183, 184), (185, 189), (190, 194), (195, 197), (198, 205), (206, 208), (208, 209), (210, 214), (214, 215), (216, 217), (218, 220), (220, 221), (221, 222), (222, 223), (224, 229), (230, 236), (237, 240), (241, 249), (250, 252), (253, 261), (262, 264), (264, 265), (266, 270), (271, 273), (274, 277), (278, 284), (285, 291), (291, 292), (293, 296), (297, 302), (303, 311), (312, 322), (323, 330), (330, 331), (331, 332), (333, 338), (339, 342), (343, 348), (349, 355), (355, 356), (357, 366), (367, 373), (374, 377), (378, 384), (385, 387), (388, 391), (392, 396), (397, 403), (404, 405), (405, 410), (411, 413), (414, 418), (418, 419), (419, 420), (421, 428), (429, 431), (431, 432), (432, 433), (433, 436), (437, 443), (444, 446), (447, 450), (451, 456), (457, 461), (461, 462), (463, 471), (472, 476), (477, 480), (481, 490), (491, 494), (494, 495), (496, 499), (500, 506), (507, 514), (515, 518), (519, 524), (525, 536), (537, 543), (543, 544), (544, 547), (548, 553), (554, 556), (557, 560), (561, 563), (563, 564), (565, 568), (569, 574), (575, 583), (584, 587), (588, 594), (594, 595), (595, 598), (599, 603), (604, 605), (605, 611), (612, 618), (619, 620), (620, 623), (624, 625), (626, 630), (631, 633), (634, 636), (636, 637), (637, 638), (639, 642), (643, 646), (647, 650), (650, 651), (651, 655), (656, 661), (662, 663), (663, 665), (666, 667), (668, 672), (673, 674), (675, 678), (678, 679), (680, 683), (684, 685), (685, 689), (689, 690), (690, 691), (692, 701), (702, 705), (706, 720), (721, 723), (724, 732), (733, 736), (737, 744), (744, 745), (745, 752), (753, 756), (757, 760), (761, 767), (768, 770), (771, 774), (775, 781), (781, 782), (783, 784), (784, 788), (788, 789), (789, 790), (790, 791), (792, 799), (800, 802), (803, 806), (807, 809), (810, 816), (817, 824), (825, 831), (832, 836), (837, 840), (840, 841), (841, 844), (845, 852), (853, 855), (856, 859), (860, 864), (865, 869), (870, 873), (874, 879), (880, 885), (886, 892), (893, 896), (897, 902), (902, 903), (904, 906), (907, 911), (912, 920), (921, 924), (925, 935), (936, 937), (937, 942), (943, 949), (949, 950), (950, 951), (952, 955), (956, 963), (964, 965), (965, 969), (969, 970), (970, 971), (972, 973), (973, 976), (976, 977), (977, 978), (979, 980), (980, 986), (986, 987), (987, 994), (995, 999), (999, 1000), (1001, 1004), (1005, 1006), (1006, 1011), (1012, 1017), (1017, 1018), (1018, 1019), (1020, 1023), (1024, 1029), (1030, 1035), (1036, 1039), (1040, 1041), (1041, 1047), (1048, 1054), (1054, 1055), (1056, 1059), (1060, 1064), (1065, 1068), (1068, 1070), (1070, 1073), (1074, 1077), (1078, 1080), (1080, 1086), (1087, 1093), (1094, 1097), (1098, 1103), (1103, 1104), (1105, 1113), (1114, 1117), (1118, 1119), (1119, 1124), (1125, 1130), (1131, 1136), (1137, 1139), (1139, 1141), (1141, 1142), (1142, 1143), (1144, 1146), (1147, 1150), (1151, 1159), (1160, 1163), (1164, 1173), (1174, 1176), (1177, 1180), (1181, 1188), (1189, 1193), (1193, 1194), (1195, 1198), (1199, 1204), (1205, 1208), (1209, 1212), (1213, 1220), (1221, 1227), (1227, 1228), (1229, 1238), (1239, 1243), (1244, 1249), (1250, 1252), (1253, 1256), (1257, 1261), (1262, 1265), (1266, 1272), (1273, 1278), (1279, 1285), (1285, 1286), (1287, 1290), (1291, 1295), (1296, 1304), (1305, 1308), (1308, 1309), (1310, 1316), (1316, 1317), (1318, 1321), (1322, 1325), (1326, 1330), (1331, 1334), (1335, 1341), (1341, 1342), (1343, 1345), (1346, 1349), (1350, 1354), (1355, 1358), (1359, 1364), (1365, 1370), (1371, 1377), (1377, 1378), (1379, 1382), (1383, 1388), (1389, 1392), (1393, 1402), (1403, 1406), (1407, 1411), (1412, 1418), (1418, 1419), (1420, 1430), (1431, 1438), (1439, 1444), (1445, 1454), (1455, 1460), (1461, 1463), (1464, 1467), (1468, 1472), (1472, 1473), (1474, 1477), (1478, 1485), (1486, 1488), (1489, 1492), (1493, 1496), (1497, 1501), (1502, 1508), (1509, 1514), (1515, 1523), (1523, 1524), (1525, 1530), (1531, 1535), (1536, 1538), (1539, 1547), (1548, 1555), (1556, 1559), (1560, 1566), (1567, 1573), (1574, 1579), (1579, 1580), (1580, 1581), (1582, 1583), (1583, 1586), (1587, 1593), (1594, 1598), (1599, 1601), (1601, 1602), (1602, 1603), (1604, 1607), (1608, 1610), (1611, 1616), (1617, 1621), (1622, 1634), (1635, 1638), (1639, 1647), (1648, 1651), (1652, 1659), (0, 0)], [(0, 0), (0, 7), (8, 11), (12, 19), (20, 22), (23, 27), (28, 30), (31, 35), (35, 36), (0, 0), (1041, 1047), (1048, 1054), (1054, 1055), (1056, 1059), (1060, 1064), (1065, 1068), (1068, 1070), (1070, 1073), (1074, 1077), (1078, 1080), (1080, 1086), (1087, 1093), (1094, 1097), (1098, 1103), (1103, 1104), (1105, 1113), (1114, 1117), (1118, 1119), (1119, 1124), (1125, 1130), (1131, 1136), (1137, 1139), (1139, 1141), (1141, 1142), (1142, 1143), (1144, 1146), (1147, 1150), (1151, 1159), (1160, 1163), (1164, 1173), (1174, 1176), (1177, 1180), (1181, 1188), (1189, 1193), (1193, 1194), (1195, 1198), (1199, 1204), (1205, 1208), (1209, 1212), (1213, 1220), (1221, 1227), (1227, 1228), (1229, 1238), (1239, 1243), (1244, 1249), (1250, 1252), (1253, 1256), (1257, 1261), (1262, 1265), (1266, 1272), (1273, 1278), (1279, 1285), (1285, 1286), (1287, 1290), (1291, 1295), (1296, 1304), (1305, 1308), (1308, 1309), (1310, 1316), (1316, 1317), (1318, 1321), (1322, 1325), (1326, 1330), (1331, 1334), (1335, 1341), (1341, 1342), (1343, 1345), (1346, 1349), (1350, 1354), (1355, 1358), (1359, 1364), (1365, 1370), (1371, 1377), (1377, 1378), (1379, 1382), (1383, 1388), (1389, 1392), (1393, 1402), (1403, 1406), (1407, 1411), (1412, 1418), (1418, 1419), (1420, 1430), (1431, 1438), (1439, 1444), (1445, 1454), (1455, 1460), (1461, 1463), (1464, 1467), (1468, 1472), (1472, 1473), (1474, 1477), (1478, 1485), (1486, 1488), (1489, 1492), (1493, 1496), (1497, 1501), (1502, 1508), (1509, 1514), (1515, 1523), (1523, 1524), (1525, 1530), (1531, 1535), (1536, 1538), (1539, 1547), (1548, 1555), (1556, 1559), (1560, 1566), (1567, 1573), (1574, 1579), (1579, 1580), (1580, 1581), (1582, 1583), (1583, 1586), (1587, 1593), (1594, 1598), (1599, 1601), (1601, 1602), (1602, 1603), (1604, 1607), (1608, 1610), (1611, 1616), (1617, 1621), (1622, 1634), (1635, 1638), (1639, 1647), (1648, 1651), (1652, 1659), (1660, 1663), (1663, 1666), (1666, 1671), (1672, 1673), (1674, 1676), (1676, 1677), (1677, 1689), (1690, 1692), (1693, 1698), (1698, 1699), (1699, 1700), (1701, 1706), (1707, 1713), (1714, 1717), (1718, 1721), (1722, 1732), (1733, 1739), (1739, 1740), (1741, 1743), (1744, 1749), (1750, 1754), (1754, 1755), (1756, 1763), (1764, 1772), (1773, 1775), (1776, 1779), (1780, 1781), (1782, 1784), (1784, 1785), (1785, 1786), (1786, 1787), (1788, 1793), (1794, 1798), (1798, 1799), (1800, 1803), (1804, 1810), (1811, 1821), (1822, 1831), (1832, 1839), (1840, 1844), (1844, 1845), (1846, 1856), (1857, 1859), (1860, 1863), (1864, 1869), (1869, 1870), (1871, 1879), (1880, 1881), (1881, 1884), (1884, 1885), (1885, 1886), (1887, 1894), (1894, 1895), (0, 0)]], 'overflow_to_sample_mapping': [0, 0]}"
      ]
     },
     "execution_count": 48,
     "metadata": {},
     "output_type": "execute_result"
    }
   ],
   "source": [
    "tokenized_example"
   ]
  },
  {
   "cell_type": "code",
   "execution_count": 52,
   "id": "33cde621-506c-494d-97c6-9b7c51c20e34",
   "metadata": {
    "ExecutionIndicator": {
     "show": true
    },
    "execution": {
     "iopub.execute_input": "2024-03-19T08:12:27.631608Z",
     "iopub.status.busy": "2024-03-19T08:12:27.631098Z",
     "iopub.status.idle": "2024-03-19T08:12:27.639629Z",
     "shell.execute_reply": "2024-03-19T08:12:27.638636Z",
     "shell.execute_reply.started": "2024-03-19T08:12:27.631571Z"
    },
    "tags": []
   },
   "outputs": [
    {
     "name": "stdout",
     "output_type": "stream",
     "text": [
      "example start_char --> 34\n",
      "example end_char   --> 39\n",
      "sequence_ids token_start_index --> 10\n",
      "sequence_ids token_end_index   --> 382\n",
      "18 19\n"
     ]
    }
   ],
   "source": [
    "answers = example[\"answers\"]\n",
    "start_char = answers[\"answer_start\"][0]\n",
    "end_char = start_char + len(answers[\"text\"][0])\n",
    "\n",
    "# 当前span在文本中的起始标记索引。\n",
    "token_start_index = 0\n",
    "while sequence_ids[token_start_index] != 1:\n",
    "    token_start_index += 1\n",
    "\n",
    "# 当前span在文本中的结束标记索引。\n",
    "token_end_index = len(tokenized_example[\"input_ids\"][0]) - 1\n",
    "while sequence_ids[token_end_index] != 1:\n",
    "    token_end_index -= 1\n",
    "\n",
    "print(f'example start_char --> {start_char}')\n",
    "print(f'example end_char   --> {end_char}')\n",
    "print(f'sequence_ids token_start_index --> {token_start_index}')\n",
    "print(f\"sequence_ids token_end_index   --> {token_end_index}\")\n",
    "\n",
    "# 检测答案是否超出span范围（如果超出范围，该特征将以CLS标记索引标记）。\n",
    "offsets = tokenized_example[\"offset_mapping\"][0]\n",
    "if (offsets[token_start_index][0] <= start_char and offsets[token_end_index][1] >= end_char):\n",
    "    # 将token_start_index和token_end_index移动到答案的两端。\n",
    "    # 注意：如果答案是最后一个单词，我们可以移到最后一个标记之后（边界情况）。\n",
    "    while token_start_index < len(offsets) and offsets[token_start_index][0] <= start_char:\n",
    "        token_start_index += 1\n",
    "    start_position = token_start_index - 1\n",
    "    while offsets[token_end_index][1] >= end_char:\n",
    "        token_end_index -= 1\n",
    "    end_position = token_end_index + 1\n",
    "    print(start_position, end_position)\n",
    "else:\n",
    "    print(\"答案不在此特征中。\")\n"
   ]
  },
  {
   "cell_type": "markdown",
   "id": "99e187b3-a482-4220-b78b-d643827b592b",
   "metadata": {},
   "source": [
    "打印检查是否准确找到了起始位置："
   ]
  },
  {
   "cell_type": "code",
   "execution_count": 53,
   "id": "6fd5810b-d14b-4d6c-9496-f8d9846c47ca",
   "metadata": {
    "execution": {
     "iopub.execute_input": "2024-03-19T08:17:45.070535Z",
     "iopub.status.busy": "2024-03-19T08:17:45.070024Z",
     "iopub.status.idle": "2024-03-19T08:17:45.075140Z",
     "shell.execute_reply": "2024-03-19T08:17:45.074470Z",
     "shell.execute_reply.started": "2024-03-19T08:17:45.070504Z"
    },
    "tags": []
   },
   "outputs": [
    {
     "name": "stdout",
     "output_type": "stream",
     "text": [
      "jay z\n",
      "Jay Z\n"
     ]
    }
   ],
   "source": [
    "# 通过查找 offset mapping 位置，解码 context 中的答案 \n",
    "print(tokenizer.decode(tokenized_example[\"input_ids\"][0][start_position: end_position+1]))\n",
    "# 直接打印 数据集中的标准答案（answer[\"text\"])\n",
    "print(answers[\"text\"][0])"
   ]
  },
  {
   "cell_type": "markdown",
   "id": "c626995e-5daf-4b3f-9d09-4b599e10fdf4",
   "metadata": {},
   "source": [
    "#### 关于填充的策略\n",
    "\n",
    "- 对于没有超过最大长度的文本，填充补齐长度。\n",
    "- 对于需要左侧填充的模型，交换 question 和 context 顺序"
   ]
  },
  {
   "cell_type": "code",
   "execution_count": 54,
   "id": "c670b02f-830f-46ba-8b68-820c8d9b19b9",
   "metadata": {
    "execution": {
     "iopub.execute_input": "2024-03-19T08:17:47.480021Z",
     "iopub.status.busy": "2024-03-19T08:17:47.479534Z",
     "iopub.status.idle": "2024-03-19T08:17:47.483698Z",
     "shell.execute_reply": "2024-03-19T08:17:47.482892Z",
     "shell.execute_reply.started": "2024-03-19T08:17:47.479990Z"
    },
    "tags": []
   },
   "outputs": [],
   "source": [
    "pad_on_right = tokenizer.padding_side == \"right\""
   ]
  },
  {
   "cell_type": "markdown",
   "id": "de403199-6459-4561-b331-8502ea88eab8",
   "metadata": {},
   "source": [
    "### 整合以上所有预处理步骤\n",
    "\n",
    "让我们将所有内容整合到一个函数中，并将其应用到训练集。\n",
    "\n",
    "针对不可回答的情况（上下文过长，答案在另一个特征中），我们为开始和结束位置都设置了cls索引。\n",
    "\n",
    "如果allow_impossible_answers标志为False，我们还可以简单地从训练集中丢弃这些示例。"
   ]
  },
  {
   "cell_type": "code",
   "execution_count": null,
   "id": "8485d830-b34a-4774-b8c3-4a505de766fa",
   "metadata": {
    "ExecutionIndicator": {
     "show": true
    },
    "execution": {
     "iopub.execute_input": "2024-03-19T08:54:00.592784Z",
     "iopub.status.busy": "2024-03-19T08:54:00.592197Z",
     "iopub.status.idle": "2024-03-19T08:54:00.602745Z",
     "shell.execute_reply": "2024-03-19T08:54:00.602036Z",
     "shell.execute_reply.started": "2024-03-19T08:54:00.592749Z"
    },
    "tags": []
   },
   "outputs": [],
   "source": [
    "def prepare_train_features(examples):\n",
    "    # 一些问题的左侧可能有很多空白字符，这对我们没有用，而且会导致上下文的截断失败\n",
    "    # （标记化的问题将占用大量空间）。因此，我们删除左侧的空白字符。\n",
    "    examples[\"question\"] = [q.lstrip() for q in examples[\"question\"]]\n",
    "\n",
    "    # 使用截断和填充对我们的示例进行标记化，但保留溢出部分，使用步幅（stride）。\n",
    "    # 当上下文很长时，这会导致一个示例可能提供多个特征，其中每个特征的上下文都与前一个特征的上下文有一些重叠。\n",
    "    # truncation，文本截断的方式，它使得始终对context进行截取\n",
    "    tokenized_examples = tokenizer(\n",
    "        examples[\"question\" if pad_on_right else \"context\"],\n",
    "        examples[\"context\" if pad_on_right else \"question\"],\n",
    "        truncation=\"only_second\" if pad_on_right else \"only_first\",\n",
    "        max_length=max_length,\n",
    "        stride=doc_stride,\n",
    "        return_overflowing_tokens=True,\n",
    "        return_offsets_mapping=True,\n",
    "        padding=\"max_length\",\n",
    "    )\n",
    "\n",
    "    # 由于一个示例可能给我们提供多个特征（如果它具有很长的上下文），我们需要一个从特征到其对应示例的映射。这个键就提供了这个映射关系。\n",
    "    sample_mapping = tokenized_examples.pop(\"overflow_to_sample_mapping\")\n",
    "    # 偏移映射将为我们提供从令牌到原始上下文中的字符位置的映射。这将帮助我们计算开始位置和结束位置。\n",
    "    offset_mapping = tokenized_examples.pop(\"offset_mapping\")\n",
    "\n",
    "    # 让我们为这些示例进行标记！\n",
    "    tokenized_examples[\"start_positions\"] = []\n",
    "    tokenized_examples[\"end_positions\"] = []\n",
    "\n",
    "    for i, offsets in enumerate(offset_mapping):\n",
    "        # 我们将使用 CLS 特殊 token 的索引来标记不可能的答案。\n",
    "        input_ids = tokenized_examples[\"input_ids\"][i]\n",
    "        # [CLS] 标记的索引位置\n",
    "        cls_index = input_ids.index(tokenizer.cls_token_id)\n",
    "\n",
    "        # 获取与该示例对应的序列（以了解上下文和问题是什么）。\n",
    "        sequence_ids = tokenized_examples.sequence_ids(i)\n",
    "\n",
    "        # 一个示例可以提供多个跨度，这是包含此文本跨度的示例的索引。\n",
    "        sample_index = sample_mapping[i]\n",
    "        answers = examples[\"answers\"][sample_index]\n",
    "        # 如果没有给出答案，则将cls_index设置为答案。\n",
    "        if len(answers[\"answer_start\"]) == 0:\n",
    "            tokenized_examples[\"start_positions\"].append(cls_index)\n",
    "            tokenized_examples[\"end_positions\"].append(cls_index)\n",
    "        else:\n",
    "            # 答案在文本中的开始和结束字符索引。\n",
    "            start_char = answers[\"answer_start\"][0]\n",
    "            end_char = start_char + len(answers[\"text\"][0])\n",
    "\n",
    "            # 当前跨度在文本中的开始令牌索引。\n",
    "            token_start_index = 0\n",
    "            while sequence_ids[token_start_index] != (1 if pad_on_right else 0):\n",
    "                token_start_index += 1\n",
    "\n",
    "            # 当前跨度在文本中的结束令牌索引。\n",
    "            token_end_index = len(input_ids) - 1\n",
    "            while sequence_ids[token_end_index] != (1 if pad_on_right else 0):\n",
    "                token_end_index -= 1\n",
    "\n",
    "            # 检测答案是否超出跨度（在这种情况下，该特征的标签将使用CLS索引）。\n",
    "            if not (offsets[token_start_index][0] <= start_char and offsets[token_end_index][1] >= end_char):\n",
    "                tokenized_examples[\"start_positions\"].append(cls_index)\n",
    "                tokenized_examples[\"end_positions\"].append(cls_index)\n",
    "            else:\n",
    "                # 否则，将token_start_index和token_end_index移到答案的两端。\n",
    "                # 注意：如果答案是最后一个单词（边缘情况），我们可以在最后一个偏移之后继续。\n",
    "                while token_start_index < len(offsets) and offsets[token_start_index][0] <= start_char:\n",
    "                    token_start_index += 1\n",
    "                tokenized_examples[\"start_positions\"].append(token_start_index - 1)\n",
    "                while offsets[token_end_index][1] >= end_char:\n",
    "                    token_end_index -= 1\n",
    "                tokenized_examples[\"end_positions\"].append(token_end_index + 1)\n",
    "\n",
    "    return tokenized_examples"
   ]
  },
  {
   "cell_type": "markdown",
   "id": "e5d37baa-3b45-4709-9e58-2988462cbd5e",
   "metadata": {
    "id": "zS-6iXTkIrJT",
    "jp-MarkdownHeadingCollapsed": true,
    "tags": []
   },
   "source": [
    "#### datasets.map 的进阶使用\n",
    "\n",
    "使用 `datasets.map` 方法将 `prepare_train_features` 应用于所有训练、验证和测试数据：\n",
    "\n",
    "- batched: 批量处理数据。\n",
    "- remove_columns: 因为预处理更改了样本的数量，所以在应用它时需要删除旧列。\n",
    "- load_from_cache_file：是否使用datasets库的自动缓存\n",
    "\n",
    "datasets 库针对大规模数据，实现了高效缓存机制，能够自动检测传递给 map 的函数是否已更改（因此需要不使用缓存数据）。如果在调用 map 时设置 `load_from_cache_file=False`，可以强制重新应用预处理。"
   ]
  },
  {
   "cell_type": "code",
   "execution_count": 56,
   "id": "df30f948-53d9-4a93-ad14-8a8f4e081ea5",
   "metadata": {
    "ExecutionIndicator": {
     "show": true
    },
    "execution": {
     "iopub.execute_input": "2024-03-19T09:01:26.557398Z",
     "iopub.status.busy": "2024-03-19T09:01:26.556923Z",
     "iopub.status.idle": "2024-03-19T09:02:17.756150Z",
     "shell.execute_reply": "2024-03-19T09:02:17.755448Z",
     "shell.execute_reply.started": "2024-03-19T09:01:26.557364Z"
    },
    "id": "DDtsaJeVIrJT",
    "outputId": "aa4734bf-4ef5-4437-9948-2c16363da719",
    "tags": []
   },
   "outputs": [
    {
     "name": "stderr",
     "output_type": "stream",
     "text": [
      "Parameter 'function'=<function prepare_train_features at 0x7f50099d4f70> of the transform datasets.arrow_dataset.Dataset._map_single couldn't be hashed properly, a random hash was used instead. Make sure your transforms and parameters are serializable with pickle or dill for the dataset fingerprinting and caching to work. If you reuse this transform, the caching mechanism will consider it to be different from the previous calls and recompute everything. This warning is only showed once. Subsequent hashing failures won't be showed.\n"
     ]
    },
    {
     "data": {
      "application/vnd.jupyter.widget-view+json": {
       "model_id": "3fd0e3948b0745d48649bc417f2655f7",
       "version_major": 2,
       "version_minor": 0
      },
      "text/plain": [
       "Map:   0%|          | 0/130319 [00:00<?, ? examples/s]"
      ]
     },
     "metadata": {},
     "output_type": "display_data"
    },
    {
     "data": {
      "application/vnd.jupyter.widget-view+json": {
       "model_id": "99d726ede3bf4fdb9764b801cfc578f5",
       "version_major": 2,
       "version_minor": 0
      },
      "text/plain": [
       "Map:   0%|          | 0/11873 [00:00<?, ? examples/s]"
      ]
     },
     "metadata": {},
     "output_type": "display_data"
    }
   ],
   "source": [
    "tokenized_datasets = datasets.map(\n",
    "    prepare_train_features,\n",
    "    batched=True,\n",
    "    remove_columns=datasets[\"train\"].column_names\n",
    ")"
   ]
  },
  {
   "cell_type": "markdown",
   "id": "97d4245f-2ae8-40c2-9fa9-7d722d675181",
   "metadata": {
    "id": "545PP3o8IrJV",
    "tags": []
   },
   "source": [
    "## 4.微调模型"
   ]
  },
  {
   "cell_type": "markdown",
   "id": "9da769ac-3e66-4b1f-96a6-26a707f33911",
   "metadata": {
    "id": "FBiW8UpKIrJW"
   },
   "source": [
    "现在我们的数据已经准备好用于训练，我们可以下载预训练模型并进行微调。\n",
    "\n",
    "由于我们的任务是问答，我们使用 `AutoModelForQuestionAnswering` 类。(对比 Yelp 评论打分使用的是 `AutoModelForSequenceClassification` 类）\n",
    "\n",
    "警告通知我们正在丢弃一些权重（`vocab_transform` 和 `vocab_layer_norm` 层），并随机初始化其他一些权重（`pre_classifier` 和 `classifier` 层）。在微调模型情况下是绝对正常的，因为我们正在删除用于预训练模型的掩码语言建模任务的头部，并用一个新的头部替换它，对于这个新头部，我们没有预训练的权重，所以库会警告我们在用它进行推理之前应该对这个模型进行微调，而这正是我们要做的事情。"
   ]
  },
  {
   "cell_type": "code",
   "execution_count": 69,
   "id": "5301ce39-7758-43ab-af02-bd8211779caa",
   "metadata": {
    "ExecutionIndicator": {
     "show": true
    },
    "execution": {
     "iopub.execute_input": "2024-03-19T10:44:17.759983Z",
     "iopub.status.busy": "2024-03-19T10:44:17.759455Z",
     "iopub.status.idle": "2024-03-19T10:44:17.942322Z",
     "shell.execute_reply": "2024-03-19T10:44:17.941509Z",
     "shell.execute_reply.started": "2024-03-19T10:44:17.759939Z"
    },
    "id": "TlqNaB8jIrJW",
    "outputId": "84916cf3-6e6c-47f3-d081-032ec30a4132",
    "tags": []
   },
   "outputs": [
    {
     "name": "stderr",
     "output_type": "stream",
     "text": [
      "Some weights of DistilBertForQuestionAnswering were not initialized from the model checkpoint at /mnt/workspace/models/distilbert/distilbert-base-uncased/ and are newly initialized: ['qa_outputs.bias', 'qa_outputs.weight']\n",
      "You should probably TRAIN this model on a down-stream task to be able to use it for predictions and inference.\n"
     ]
    },
    {
     "name": "stdout",
     "output_type": "stream",
     "text": [
      "cuda\n",
      "1\n"
     ]
    }
   ],
   "source": [
    "from transformers import AutoModelForQuestionAnswering, TrainingArguments, Trainer\n",
    "import os\n",
    "import wandb\n",
    "import torch\n",
    "\n",
    "os.environ[\"WANDB_PROJECT\"]=\"llm-dev-qa-fine-tune\"\n",
    "os.environ[\"WANDB_LOG_MODEL\"]=\"true\"\n",
    "os.environ[\"WANDB_WATCH\"]=\"true\"\n",
    "\n",
    "#  fuck,v100貌似不支持tf32,所以下面超参数里也注释掉\n",
    "# torch.backends.cuda.matmul.allow_tf32 = True\n",
    "# torch.backends.cudnn.allow_tf32 = True\n",
    "\n",
    "device = torch.device(\"cuda\" if torch.cuda.is_available() else \"cpu\")\n",
    "n_gpu = torch.cuda.device_count()\n",
    "torch.cuda.empty_cache()\n",
    "\n",
    "print(device)\n",
    "print(n_gpu)\n",
    "\n",
    "model = AutoModelForQuestionAnswering.from_pretrained(model_distilbert_base_uncased)"
   ]
  },
  {
   "cell_type": "markdown",
   "id": "8216ccbc-8944-4c9c-8941-aa882fd98472",
   "metadata": {
    "id": "_N8urzhyIrJY"
   },
   "source": [
    "#### 训练超参数（TrainingArguments）"
   ]
  },
  {
   "cell_type": "code",
   "execution_count": 73,
   "id": "a61350b1-4505-4da4-893d-e2c45284799a",
   "metadata": {
    "ExecutionIndicator": {
     "show": true
    },
    "execution": {
     "iopub.execute_input": "2024-03-19T10:45:44.564009Z",
     "iopub.status.busy": "2024-03-19T10:45:44.563504Z",
     "iopub.status.idle": "2024-03-19T10:45:44.569412Z",
     "shell.execute_reply": "2024-03-19T10:45:44.568674Z",
     "shell.execute_reply.started": "2024-03-19T10:45:44.563974Z"
    },
    "id": "Bliy8zgjIrJY",
    "tags": []
   },
   "outputs": [],
   "source": [
    "\n",
    "args = TrainingArguments(\n",
    "    output_dir=model_distilbert_base_uncased_output_dir,\n",
    "    # 训练过程中进行评估的策略。在这里设置为 \"epoch\"，表示在每个训练轮次结束后进行一次评估。也可以设置为 \"steps\"，表示每训练一定步数后进行评估。\n",
    "    evaluation_strategy = \"epoch\",\n",
    "    # 设置模型的初始学习率\n",
    "    learning_rate=2e-5,\n",
    "    per_device_train_batch_size=batch_size,\n",
    "    per_device_eval_batch_size=batch_size,\n",
    "    # 设置训练的轮次（epochs）数\n",
    "    num_train_epochs=3,\n",
    "    # 设置权重衰减（weight decay）的系数。权重衰减是一种正则化技术，用于避免模型过拟合训练数据。这里设置为 0.01，表示权重衰减的系数为 0.01\n",
    "    weight_decay=0.01,\n",
    "    # tf32=True,\n",
    "    save_total_limit=2, # 控制生成checkpoints文件夹的数量\n",
    "    hub_strategy=\"checkpoint\",\n",
    "    save_strategy=\"steps\",\n",
    "    save_steps=500,\n",
    "    ignore_data_skip=False,\n",
    "    report_to=\"wandb\",\n",
    "    logging_steps=50\n",
    ")"
   ]
  },
  {
   "cell_type": "markdown",
   "id": "19d69c41-f16f-4d98-82be-566d3018f80f",
   "metadata": {},
   "source": [
    "#### Data Collator（数据整理器）\n",
    "\n",
    "数据整理器将训练数据整理为批次数据，用于模型训练时的批次处理。本教程使用默认的 `default_data_collator`。\n",
    "\n",
    "`GPT:`\n",
    "- default_data_collator 是 Hugging Face Transformers 库提供的一个默认数据收集器。在训练过程中，数据收集器用于将输入数据转换成模型所需的张量形式，并对不规则大小的输入进行批处理。\n",
    "- 具体来说，default_data_collator 主要完成以下几项任务：\n",
    "    - Padding： 对不规则大小的输入进行填充，使它们的长度一致。这是因为在训练时，通常需要将一个批次中的所有输入样本的长度统一，以便同时处理。\n",
    "    - Batching： 将多个输入样本组合成一个批次进行处理。这可以提高训练的效率，因为可以利用并行计算的优势。\n",
    "    - 转换为张量： 将输入数据转换成模型所需的张量形式，以便在 GPU 或 TPU 上进行计算。\n",
    "\n",
    "default_data_collator 是一个通用的数据收集器，适用于大多数 NLP 任务。它适用于文本分类、序列标注、文本生成等任务，并能够处理带有 attention mask 的输入。"
   ]
  },
  {
   "cell_type": "code",
   "execution_count": 74,
   "id": "9676549a-81b8-417b-939a-0f0eea2c7aa5",
   "metadata": {
    "ExecutionIndicator": {
     "show": true
    },
    "execution": {
     "iopub.execute_input": "2024-03-19T10:45:47.057225Z",
     "iopub.status.busy": "2024-03-19T10:45:47.056739Z",
     "iopub.status.idle": "2024-03-19T10:45:47.060799Z",
     "shell.execute_reply": "2024-03-19T10:45:47.059973Z",
     "shell.execute_reply.started": "2024-03-19T10:45:47.057193Z"
    },
    "tags": []
   },
   "outputs": [],
   "source": [
    "from transformers import default_data_collator\n",
    "\n",
    "data_collator = default_data_collator"
   ]
  },
  {
   "cell_type": "markdown",
   "id": "588ff118-8f53-46b6-81c5-359e8ff6e7d2",
   "metadata": {
    "id": "rXuFTAzDIrJe",
    "tags": []
   },
   "source": [
    "### 实例化训练器（Trainer）\n",
    "\n",
    "为了减少训练时间（需要大量算力支持），我们不在本教程的训练模型过程中计算模型评估指标。\n",
    "\n",
    "而是训练完成后，再独立进行模型评估。"
   ]
  },
  {
   "cell_type": "code",
   "execution_count": 75,
   "id": "b4d2d20c-bd8f-41a1-bd01-6b99aa5659f2",
   "metadata": {
    "execution": {
     "iopub.execute_input": "2024-03-19T10:45:49.007996Z",
     "iopub.status.busy": "2024-03-19T10:45:49.007475Z",
     "iopub.status.idle": "2024-03-19T10:45:49.017735Z",
     "shell.execute_reply": "2024-03-19T10:45:49.017109Z",
     "shell.execute_reply.started": "2024-03-19T10:45:49.007958Z"
    },
    "id": "imY1oC3SIrJf",
    "tags": []
   },
   "outputs": [
    {
     "name": "stderr",
     "output_type": "stream",
     "text": [
      "Detected kernel version 4.19.24, which is below the recommended minimum of 5.5.0; this can cause the process to hang. It is recommended to upgrade the kernel to the minimum version or higher.\n"
     ]
    }
   ],
   "source": [
    "trainer = Trainer(\n",
    "    model,\n",
    "    args,\n",
    "    train_dataset=tokenized_datasets[\"train\"],\n",
    "    eval_dataset=tokenized_datasets[\"validation\"],\n",
    "    data_collator=data_collator,\n",
    "    tokenizer=tokenizer,\n",
    ")"
   ]
  },
  {
   "cell_type": "markdown",
   "id": "6267488c-057d-492e-95f2-76a297321f5d",
   "metadata": {},
   "source": [
    "#### GPU 使用情况\n",
    "\n",
    "- watch -n 1 nvidia-smi\n",
    "\n",
    "训练数据与模型配置：\n",
    "\n",
    "- SQUAD v2\n",
    "- model_checkpoint = \"distilbert-base-uncased\"\n",
    "- batch_size = 64\n",
    "\n",
    "NVIDIA GPU 使用情况：\n",
    "\n",
    "```shell\n",
    "Every 1.0s: nvidia-smi                                                   Wed Dec 20 15:39:57 2023\n",
    "\n",
    "Wed Dec 20 15:39:57 2023\n",
    "+---------------------------------------------------------------------------------------+\n",
    "| NVIDIA-SMI 535.129.03             Driver Version: 535.129.03   CUDA Version: 12.2     |\n",
    "|-----------------------------------------+----------------------+----------------------+\n",
    "| GPU  Name                 Persistence-M | Bus-Id        Disp.A | Volatile Uncorr. ECC |\n",
    "| Fan  Temp   Perf          Pwr:Usage/Cap |         Memory-Usage | GPU-Util  Compute M. |\n",
    "|                                         |                      |               MIG M. |\n",
    "|=========================================+======================+======================|\n",
    "|   0  Tesla T4                       Off | 00000000:00:0D.0 Off |                    0 |\n",
    "| N/A   67C    P0              67W /  70W |  14617MiB / 15360MiB |    100%      Default |\n",
    "|                                         |                      |                  N/A |\n",
    "+-----------------------------------------+----------------------+----------------------+\n",
    "\n",
    "+---------------------------------------------------------------------------------------+\n",
    "| Processes:                                                                            |\n",
    "|  GPU   GI   CI        PID   Type   Process name                            GPU Memory |\n",
    "|        ID   ID                                                             Usage      |\n",
    "|=======================================================================================|\n",
    "|    0   N/A  N/A     16384      C   /root/miniconda3/bin/python               14612MiB |\n",
    "+---------------------------------------------------------------------------------------+\n",
    "```"
   ]
  },
  {
   "cell_type": "code",
   "execution_count": null,
   "id": "b8babf89-9dfb-45a0-bd99-37a434543909",
   "metadata": {
    "id": "uNx5pyRlIrJh",
    "outputId": "077e661e-d36c-469b-89b8-7ff7f73541ec",
    "tags": []
   },
   "outputs": [],
   "source": [
    "trainer.train()"
   ]
  },
  {
   "cell_type": "markdown",
   "id": "67994e74-a499-442c-872a-98462160920b",
   "metadata": {},
   "source": [
    "### 训练完成后，第一时间保存模型权重文件。"
   ]
  },
  {
   "cell_type": "code",
   "execution_count": 38,
   "id": "49bf1b4e-db25-4924-9dc8-13ba02fe126f",
   "metadata": {},
   "outputs": [],
   "source": [
    "model_to_save = trainer.save_model(model_dir)"
   ]
  },
  {
   "cell_type": "markdown",
   "id": "78a98c27-6d83-42bd-8c04-be651ebe2756",
   "metadata": {
    "tags": []
   },
   "source": [
    "## 5.模型评估"
   ]
  },
  {
   "cell_type": "markdown",
   "id": "eaf3aa15-085c-4102-bd39-e25a5b87118b",
   "metadata": {},
   "source": [
    "**评估模型输出需要一些额外的处理：将模型的预测映射回上下文的部分。**\n",
    "\n",
    "模型直接输出的是预测答案的`起始位置`和`结束位置`的**logits**"
   ]
  },
  {
   "cell_type": "code",
   "execution_count": 39,
   "id": "27930c97-475f-4edd-9db9-c5543040a47e",
   "metadata": {},
   "outputs": [
    {
     "data": {
      "text/plain": [
       "odict_keys(['loss', 'start_logits', 'end_logits'])"
      ]
     },
     "execution_count": 39,
     "metadata": {},
     "output_type": "execute_result"
    }
   ],
   "source": [
    "import torch\n",
    "\n",
    "for batch in trainer.get_eval_dataloader():\n",
    "    break\n",
    "batch = {k: v.to(trainer.args.device) for k, v in batch.items()}\n",
    "with torch.no_grad():\n",
    "    output = trainer.model(**batch)\n",
    "output.keys()"
   ]
  },
  {
   "cell_type": "markdown",
   "id": "836c61cf-af89-4308-8b7e-6fef61d02f67",
   "metadata": {},
   "source": [
    "模型的输出是一个类似字典的对象，其中包含损失（因为我们提供了标签），以及起始和结束logits。我们不需要损失来进行预测，让我们看一下logits："
   ]
  },
  {
   "cell_type": "code",
   "execution_count": 40,
   "id": "e0f491dd-2759-49bf-a9af-1c6ec258bc60",
   "metadata": {},
   "outputs": [
    {
     "data": {
      "text/plain": [
       "(torch.Size([64, 384]), torch.Size([64, 384]))"
      ]
     },
     "execution_count": 40,
     "metadata": {},
     "output_type": "execute_result"
    }
   ],
   "source": [
    "output.start_logits.shape, output.end_logits.shape"
   ]
  },
  {
   "cell_type": "code",
   "execution_count": 41,
   "id": "40f757a5-b0e2-411b-ad93-32b8965cbc83",
   "metadata": {},
   "outputs": [
    {
     "data": {
      "text/plain": [
       "(tensor([ 46,  57,  78,  43, 118, 108,  72,  35, 108,  34,  73,  41,  80,  91,\n",
       "         156,  35,  83,  91,  80,  58,  77,  31,  42,  53,  41,  35,  42,  77,\n",
       "          11,  44,  27, 133,  66,  40,  87,  44,  43,  41, 127,  26,  28,  33,\n",
       "          87, 127,  95,  25,  43, 132,  42,  29,  44,  46,  24,  44,  65,  58,\n",
       "          81,  14,  59,  72,  25,  36,  57,  43], device='cuda:0'),\n",
       " tensor([ 47,  58,  81,  44, 118, 109,  75,  37, 109,  36,  76,  42,  83,  94,\n",
       "         158,  35,  83,  94,  83,  60,  80,  31,  43,  54,  42,  35,  43,  80,\n",
       "          13,  45,  28, 133,  66,  41,  89,  45,  44,  42, 127,  27,  30,  34,\n",
       "          32, 127,  97,  26,  44, 132,  43,  30,  45,  47,  25,  45,  65,  59,\n",
       "          81,  14,  60,  72,  25,  36,  58,  43], device='cuda:0'))"
      ]
     },
     "execution_count": 41,
     "metadata": {},
     "output_type": "execute_result"
    }
   ],
   "source": [
    "output.start_logits.argmax(dim=-1), output.end_logits.argmax(dim=-1)"
   ]
  },
  {
   "cell_type": "markdown",
   "id": "9c71e7c8-c13f-45f0-bdc2-52f09f88e2c6",
   "metadata": {},
   "source": [
    "#### 如何从模型输出的位置 logit 组合成答案\n",
    "\n",
    "我们有每个特征和每个标记的logit。在每个特征中为每个标记预测答案最明显的方法是，将起始logits的最大索引作为起始位置，将结束logits的最大索引作为结束位置。\n",
    "\n",
    "在许多情况下这种方式效果很好，但是如果此预测给出了不可能的结果该怎么办？比如：起始位置可能大于结束位置，或者指向问题中的文本片段而不是答案。在这种情况下，我们可能希望查看第二好的预测，看它是否给出了一个可能的答案，并选择它。\n",
    "\n",
    "选择第二好的答案并不像选择最佳答案那么容易：\n",
    "- 它是起始logits中第二佳索引与结束logits中最佳索引吗？\n",
    "- 还是起始logits中最佳索引与结束logits中第二佳索引？\n",
    "- 如果第二好的答案也不可能，那么对于第三好的答案，情况会更加棘手。\n",
    "\n",
    "为了对答案进行分类，\n",
    "1. 将使用通过添加起始和结束logits获得的分数\n",
    "1. 设计一个名为`n_best_size`的超参数，限制不对所有可能的答案进行排序。\n",
    "1. 我们将选择起始和结束logits中的最佳索引，并收集这些预测的所有答案。\n",
    "1. 在检查每一个是否有效后，我们将按照其分数对它们进行排序，并保留最佳的答案。\n",
    "\n",
    "以下是我们如何在批次中的第一个特征上执行此操作的示例："
   ]
  },
  {
   "cell_type": "code",
   "execution_count": 42,
   "id": "f518e036-5d2b-4531-9564-9282844880db",
   "metadata": {},
   "outputs": [],
   "source": [
    "n_best_size = 20"
   ]
  },
  {
   "cell_type": "code",
   "execution_count": 43,
   "id": "7b60c606-4db4-41a1-859a-a9a9498186a4",
   "metadata": {},
   "outputs": [],
   "source": [
    "import numpy as np\n",
    "\n",
    "start_logits = output.start_logits[0].cpu().numpy()\n",
    "end_logits = output.end_logits[0].cpu().numpy()\n",
    "\n",
    "# 获取最佳的起始和结束位置的索引：\n",
    "start_indexes = np.argsort(start_logits)[-1 : -n_best_size - 1 : -1].tolist()\n",
    "end_indexes = np.argsort(end_logits)[-1 : -n_best_size - 1 : -1].tolist()\n",
    "\n",
    "valid_answers = []\n",
    "\n",
    "# 遍历起始位置和结束位置的索引组合\n",
    "for start_index in start_indexes:\n",
    "    for end_index in end_indexes:\n",
    "        if start_index <= end_index:  # 需要进一步测试以检查答案是否在上下文中\n",
    "            valid_answers.append(\n",
    "                {\n",
    "                    \"score\": start_logits[start_index] + end_logits[end_index],\n",
    "                    \"text\": \"\"  # 我们需要找到一种方法来获取与上下文中答案对应的原始子字符串\n",
    "                }\n",
    "            )\n"
   ]
  },
  {
   "cell_type": "markdown",
   "id": "c3b0f316-673d-4f9e-a7ba-1ebdd066049a",
   "metadata": {},
   "source": [
    "\n",
    "然后，我们可以根据它们的得分对`valid_answers`进行排序，并仅保留最佳答案。唯一剩下的问题是如何检查给定的跨度是否在上下文中（而不是问题中），以及如何获取其中的文本。为此，我们需要向我们的验证特征添加两个内容：\n",
    "\n",
    "- 生成该特征的示例的ID（因为每个示例可以生成多个特征，如前所示）；\n",
    "- 偏移映射，它将为我们提供从标记索引到上下文中字符位置的映射。\n",
    "\n",
    "这就是为什么我们将使用以下函数稍微不同于`prepare_train_features`来重新处理验证集："
   ]
  },
  {
   "cell_type": "code",
   "execution_count": 44,
   "id": "60941177-0c62-42cf-a54d-56803db6ee50",
   "metadata": {},
   "outputs": [],
   "source": [
    "def prepare_validation_features(examples):\n",
    "    # 一些问题的左侧有很多空白，这些空白并不有用且会导致上下文截断失败（分词后的问题会占用很多空间）。\n",
    "    # 因此我们移除这些左侧空白\n",
    "    examples[\"question\"] = [q.lstrip() for q in examples[\"question\"]]\n",
    "\n",
    "    # 使用截断和可能的填充对我们的示例进行分词，但使用步长保留溢出的令牌。这导致一个长上下文的示例可能产生\n",
    "    # 几个特征，每个特征的上下文都会稍微与前一个特征的上下文重叠。\n",
    "    tokenized_examples = tokenizer(\n",
    "        examples[\"question\" if pad_on_right else \"context\"],\n",
    "        examples[\"context\" if pad_on_right else \"question\"],\n",
    "        truncation=\"only_second\" if pad_on_right else \"only_first\",\n",
    "        max_length=max_length,\n",
    "        stride=doc_stride,\n",
    "        return_overflowing_tokens=True,\n",
    "        return_offsets_mapping=True,\n",
    "        padding=\"max_length\",\n",
    "    )\n",
    "\n",
    "    # 由于一个示例在上下文很长时可能会产生几个特征，我们需要一个从特征映射到其对应示例的映射。这个键就是为了这个目的。\n",
    "    sample_mapping = tokenized_examples.pop(\"overflow_to_sample_mapping\")\n",
    "\n",
    "    # 我们保留产生这个特征的示例ID，并且会存储偏移映射。\n",
    "    tokenized_examples[\"example_id\"] = []\n",
    "\n",
    "    for i in range(len(tokenized_examples[\"input_ids\"])):\n",
    "        # 获取与该示例对应的序列（以了解哪些是上下文，哪些是问题）。\n",
    "        sequence_ids = tokenized_examples.sequence_ids(i)\n",
    "        context_index = 1 if pad_on_right else 0\n",
    "\n",
    "        # 一个示例可以产生几个文本段，这里是包含该文本段的示例的索引。\n",
    "        sample_index = sample_mapping[i]\n",
    "        tokenized_examples[\"example_id\"].append(examples[\"id\"][sample_index])\n",
    "\n",
    "        # 将不属于上下文的偏移映射设置为None，以便容易确定一个令牌位置是否属于上下文。\n",
    "        tokenized_examples[\"offset_mapping\"][i] = [\n",
    "            (o if sequence_ids[k] == context_index else None)\n",
    "            for k, o in enumerate(tokenized_examples[\"offset_mapping\"][i])\n",
    "        ]\n",
    "\n",
    "    return tokenized_examples\n"
   ]
  },
  {
   "cell_type": "markdown",
   "id": "6c059320-437f-46a1-9c74-0fda8f68061b",
   "metadata": {},
   "source": [
    "将`prepare_validation_features`应用到整个验证集："
   ]
  },
  {
   "cell_type": "code",
   "execution_count": 45,
   "id": "64b3677b-9a2f-43d9-8f3d-d8fe217c1501",
   "metadata": {},
   "outputs": [
    {
     "data": {
      "application/vnd.jupyter.widget-view+json": {
       "model_id": "9dbc85bdcee9457891a7cc94d54fcd8e",
       "version_major": 2,
       "version_minor": 0
      },
      "text/plain": [
       "Map:   0%|          | 0/10570 [00:00<?, ? examples/s]"
      ]
     },
     "metadata": {},
     "output_type": "display_data"
    }
   ],
   "source": [
    "validation_features = datasets[\"validation\"].map(\n",
    "    prepare_validation_features,\n",
    "    batched=True,\n",
    "    remove_columns=datasets[\"validation\"].column_names\n",
    ")"
   ]
  },
  {
   "cell_type": "markdown",
   "id": "f04a4132-1822-47fc-acfa-96cf486657e9",
   "metadata": {},
   "source": [
    "Now we can grab the predictions for all features by using the `Trainer.predict` method:"
   ]
  },
  {
   "cell_type": "code",
   "execution_count": 46,
   "id": "56eefaea-f0bd-4423-b3be-eebb2dfbd52c",
   "metadata": {},
   "outputs": [
    {
     "data": {
      "text/html": [],
      "text/plain": [
       "<IPython.core.display.HTML object>"
      ]
     },
     "metadata": {},
     "output_type": "display_data"
    }
   ],
   "source": [
    "raw_predictions = trainer.predict(validation_features)"
   ]
  },
  {
   "cell_type": "markdown",
   "id": "47f59ee4-1d19-43af-af20-189a72468dd5",
   "metadata": {},
   "source": [
    "`Trainer`会隐藏模型不使用的列（在这里是`example_id`和`offset_mapping`，我们需要它们进行后处理），所以我们需要将它们重新设置回来："
   ]
  },
  {
   "cell_type": "code",
   "execution_count": 47,
   "id": "e2b126d8-03f6-42e6-b208-9b7a9a73a4ab",
   "metadata": {},
   "outputs": [],
   "source": [
    "validation_features.set_format(type=validation_features.format[\"type\"], columns=list(validation_features.features.keys()))"
   ]
  },
  {
   "cell_type": "markdown",
   "id": "652ae931-6cc7-4b40-8903-fc747504e876",
   "metadata": {},
   "source": [
    "现在，我们可以改进之前的测试：\n",
    "\n",
    "由于在偏移映射中，当它对应于问题的一部分时，我们将其设置为None，因此可以轻松检查答案是否完全在上下文中。我们还可以从考虑中排除非常长的答案（可以调整的超参数）。\n",
    "\n",
    "展开说下具体实现：\n",
    "- 首先从模型输出中获取起始和结束的逻辑值（logits），这些值表明答案在文本中可能开始和结束的位置。\n",
    "- 然后，它使用偏移映射（offset_mapping）来找到这些逻辑值在原始文本中的具体位置。\n",
    "- 接下来，代码遍历可能的开始和结束索引组合，排除那些不在上下文范围内或长度不合适的答案。\n",
    "- 对于有效的答案，它计算出一个分数（基于开始和结束逻辑值的和），并将答案及其分数存储起来。\n",
    "- 最后，它根据分数对答案进行排序，并返回得分最高的几个答案。"
   ]
  },
  {
   "cell_type": "code",
   "execution_count": 48,
   "id": "c48d6501-2763-4449-9ad7-10857b486902",
   "metadata": {},
   "outputs": [],
   "source": [
    "max_answer_length = 30"
   ]
  },
  {
   "cell_type": "code",
   "execution_count": 49,
   "id": "581ad072-a214-47eb-b9c5-7273ac370edb",
   "metadata": {
    "scrolled": true,
    "tags": []
   },
   "outputs": [
    {
     "data": {
      "text/plain": [
       "[{'score': 15.986347, 'text': 'Denver Broncos'},\n",
       " {'score': 14.585561,\n",
       "  'text': 'Denver Broncos defeated the National Football Conference (NFC) champion Carolina Panthers'},\n",
       " {'score': 13.152991, 'text': 'Carolina Panthers'},\n",
       " {'score': 12.38233, 'text': 'Broncos'},\n",
       " {'score': 10.981544,\n",
       "  'text': 'Broncos defeated the National Football Conference (NFC) champion Carolina Panthers'},\n",
       " {'score': 10.852013,\n",
       "  'text': 'American Football Conference (AFC) champion Denver Broncos'},\n",
       " {'score': 10.635618,\n",
       "  'text': 'The American Football Conference (AFC) champion Denver Broncos'},\n",
       " {'score': 10.283654, 'text': 'Denver'},\n",
       " {'score': 9.451225,\n",
       "  'text': 'American Football Conference (AFC) champion Denver Broncos defeated the National Football Conference (NFC) champion Carolina Panthers'},\n",
       " {'score': 9.234833,\n",
       "  'text': 'The American Football Conference (AFC) champion Denver Broncos defeated the National Football Conference (NFC) champion Carolina Panthers'},\n",
       " {'score': 8.7582445,\n",
       "  'text': 'Denver Broncos defeated the National Football Conference'},\n",
       " {'score': 8.187819,\n",
       "  'text': 'Denver Broncos defeated the National Football Conference (NFC) champion Carolina'},\n",
       " {'score': 8.134832, 'text': 'Panthers'},\n",
       " {'score': 8.092252,\n",
       "  'text': 'Denver Broncos defeated the National Football Conference (NFC)'},\n",
       " {'score': 7.7162285,\n",
       "  'text': 'the National Football Conference (NFC) champion Carolina Panthers'},\n",
       " {'score': 7.595868,\n",
       "  'text': 'Denver Broncos defeated the National Football Conference (NFC) champion Carolina Panthers 24–10'},\n",
       " {'score': 7.382572,\n",
       "  'text': 'National Football Conference (NFC) champion Carolina Panthers'},\n",
       " {'score': 7.320059,\n",
       "  'text': 'Denver Broncos defeated the National Football Conference (NFC'},\n",
       " {'score': 6.755249, 'text': 'Carolina'},\n",
       " {'score': 6.728976, 'text': 'champion Denver Broncos'}]"
      ]
     },
     "execution_count": 49,
     "metadata": {},
     "output_type": "execute_result"
    }
   ],
   "source": [
    "start_logits = output.start_logits[0].cpu().numpy()\n",
    "end_logits = output.end_logits[0].cpu().numpy()\n",
    "offset_mapping = validation_features[0][\"offset_mapping\"]\n",
    "\n",
    "# 第一个特征来自第一个示例。对于更一般的情况，我们需要将example_id匹配到一个示例索引\n",
    "context = datasets[\"validation\"][0][\"context\"]\n",
    "\n",
    "# 收集最佳开始/结束逻辑的索引：\n",
    "start_indexes = np.argsort(start_logits)[-1 : -n_best_size - 1 : -1].tolist()\n",
    "end_indexes = np.argsort(end_logits)[-1 : -n_best_size - 1 : -1].tolist()\n",
    "valid_answers = []\n",
    "for start_index in start_indexes:\n",
    "    for end_index in end_indexes:\n",
    "        # 不考虑超出范围的答案，原因是索引超出范围或对应于输入ID的部分不在上下文中。\n",
    "        if (\n",
    "            start_index >= len(offset_mapping)\n",
    "            or end_index >= len(offset_mapping)\n",
    "            or offset_mapping[start_index] is None\n",
    "            or offset_mapping[end_index] is None\n",
    "        ):\n",
    "            continue\n",
    "        # 不考虑长度小于0或大于max_answer_length的答案。\n",
    "        if end_index < start_index or end_index - start_index + 1 > max_answer_length:\n",
    "            continue\n",
    "        if start_index <= end_index: # 我们需要细化这个测试，以检查答案是否在上下文中\n",
    "            start_char = offset_mapping[start_index][0]\n",
    "            end_char = offset_mapping[end_index][1]\n",
    "            valid_answers.append(\n",
    "                {\n",
    "                    \"score\": start_logits[start_index] + end_logits[end_index],\n",
    "                    \"text\": context[start_char: end_char]\n",
    "                }\n",
    "            )\n",
    "\n",
    "valid_answers = sorted(valid_answers, key=lambda x: x[\"score\"], reverse=True)[:n_best_size]\n",
    "valid_answers\n"
   ]
  },
  {
   "cell_type": "markdown",
   "id": "980ed52d-5ad1-4050-b38a-6829df7fc46c",
   "metadata": {},
   "source": [
    "打印比较模型输出和标准答案（Ground-truth）是否一致:"
   ]
  },
  {
   "cell_type": "code",
   "execution_count": 50,
   "id": "30b8b438-aee4-47bb-9f10-d59d9672c4a9",
   "metadata": {},
   "outputs": [
    {
     "data": {
      "text/plain": [
       "{'text': ['Denver Broncos', 'Denver Broncos', 'Denver Broncos'],\n",
       " 'answer_start': [177, 177, 177]}"
      ]
     },
     "execution_count": 50,
     "metadata": {},
     "output_type": "execute_result"
    }
   ],
   "source": [
    "datasets[\"validation\"][0][\"answers\"]"
   ]
  },
  {
   "cell_type": "markdown",
   "id": "223b9123-8298-4cee-8b9f-0d6b5c1a6243",
   "metadata": {},
   "source": [
    "**模型最高概率的输出与标准答案一致**\n",
    "\n",
    "正如上面的代码所示，这在第一个特征上很容易，因为我们知道它来自第一个示例。\n",
    "\n",
    "对于其他特征，我们需要建立一个示例与其对应特征的映射关系。\n",
    "\n",
    "此外，由于一个示例可以生成多个特征，我们需要将由给定示例生成的所有特征中的所有答案汇集在一起，然后选择最佳答案。\n",
    "\n",
    "下面的代码构建了一个示例索引到其对应特征索引的映射关系："
   ]
  },
  {
   "cell_type": "code",
   "execution_count": 51,
   "id": "ca68bdbc-d2e3-4987-b997-90cdc1836a45",
   "metadata": {},
   "outputs": [],
   "source": [
    "import collections\n",
    "\n",
    "examples = datasets[\"validation\"]\n",
    "features = validation_features\n",
    "\n",
    "example_id_to_index = {k: i for i, k in enumerate(examples[\"id\"])}\n",
    "features_per_example = collections.defaultdict(list)\n",
    "for i, feature in enumerate(features):\n",
    "    features_per_example[example_id_to_index[feature[\"example_id\"]]].append(i)"
   ]
  },
  {
   "cell_type": "markdown",
   "id": "05e267a8-8bf3-4afa-be68-1624ab2a1171",
   "metadata": {},
   "source": [
    "当`squad_v2 = True`时，有一定概率出现不可能的答案（impossible answer)。\n",
    "\n",
    "上面的代码仅保留在上下文中的答案，我们还需要获取不可能答案的分数（其起始和结束索引对应于CLS标记的索引）。\n",
    "\n",
    "当一个示例生成多个特征时，我们必须在所有特征中的不可能答案都预测出现不可能答案时（因为一个特征可能之所以能够预测出不可能答案，是因为答案不在它可以访问的上下文部分），这就是为什么一个示例中不可能答案的分数是该示例生成的每个特征中的不可能答案的分数的最小值。"
   ]
  },
  {
   "cell_type": "code",
   "execution_count": 52,
   "id": "1542cc81-554a-4eee-99fd-6678f6b1c313",
   "metadata": {},
   "outputs": [],
   "source": [
    "from tqdm.auto import tqdm\n",
    "\n",
    "def postprocess_qa_predictions(examples, features, raw_predictions, n_best_size = 20, max_answer_length = 30):\n",
    "    all_start_logits, all_end_logits = raw_predictions\n",
    "    # 构建一个从示例到其对应特征的映射。\n",
    "    example_id_to_index = {k: i for i, k in enumerate(examples[\"id\"])}\n",
    "    features_per_example = collections.defaultdict(list)\n",
    "    for i, feature in enumerate(features):\n",
    "        features_per_example[example_id_to_index[feature[\"example_id\"]]].append(i)\n",
    "\n",
    "    # 我们需要填充的字典。\n",
    "    predictions = collections.OrderedDict()\n",
    "\n",
    "    # 日志记录。\n",
    "    print(f\"正在后处理 {len(examples)} 个示例的预测，这些预测分散在 {len(features)} 个特征中。\")\n",
    "\n",
    "    # 遍历所有示例！\n",
    "    for example_index, example in enumerate(tqdm(examples)):\n",
    "        # 这些是与当前示例关联的特征的索引。\n",
    "        feature_indices = features_per_example[example_index]\n",
    "\n",
    "        min_null_score = None # 仅在squad_v2为True时使用。\n",
    "        valid_answers = []\n",
    "        \n",
    "        context = example[\"context\"]\n",
    "        # 遍历与当前示例关联的所有特征。\n",
    "        for feature_index in feature_indices:\n",
    "            # 我们获取模型对这个特征的预测。\n",
    "            start_logits = all_start_logits[feature_index]\n",
    "            end_logits = all_end_logits[feature_index]\n",
    "            # 这将允许我们将logits中的某些位置映射到原始上下文中的文本跨度。\n",
    "            offset_mapping = features[feature_index][\"offset_mapping\"]\n",
    "\n",
    "            # 更新最小空预测。\n",
    "            cls_index = features[feature_index][\"input_ids\"].index(tokenizer.cls_token_id)\n",
    "            feature_null_score = start_logits[cls_index] + end_logits[cls_index]\n",
    "            if min_null_score is None or min_null_score < feature_null_score:\n",
    "                min_null_score = feature_null_score\n",
    "\n",
    "            # 浏览所有的最佳开始和结束logits，为 `n_best_size` 个最佳选择。\n",
    "            start_indexes = np.argsort(start_logits)[-1 : -n_best_size - 1 : -1].tolist()\n",
    "            end_indexes = np.argsort(end_logits)[-1 : -n_best_size - 1 : -1].tolist()\n",
    "            for start_index in start_indexes:\n",
    "                for end_index in end_indexes:\n",
    "                    # 不考虑超出范围的答案，原因是索引超出范围或对应于输入ID的部分不在上下文中。\n",
    "                    if (\n",
    "                        start_index >= len(offset_mapping)\n",
    "                        or end_index >= len(offset_mapping)\n",
    "                        or offset_mapping[start_index] is None\n",
    "                        or offset_mapping[end_index] is None\n",
    "                    ):\n",
    "                        continue\n",
    "                    # 不考虑长度小于0或大于max_answer_length的答案。\n",
    "                    if end_index < start_index or end_index - start_index + 1 > max_answer_length:\n",
    "                        continue\n",
    "\n",
    "                    start_char = offset_mapping[start_index][0]\n",
    "                    end_char = offset_mapping[end_index][1]\n",
    "                    valid_answers.append(\n",
    "                        {\n",
    "                            \"score\": start_logits[start_index] + end_logits[end_index],\n",
    "                            \"text\": context[start_char: end_char]\n",
    "                        }\n",
    "                    )\n",
    "        \n",
    "        if len(valid_answers) > 0:\n",
    "            best_answer = sorted(valid_answers, key=lambda x: x[\"score\"], reverse=True)[0]\n",
    "        else:\n",
    "            # 在极少数情况下我们没有一个非空预测，我们创建一个假预测以避免失败。\n",
    "            best_answer = {\"text\": \"\", \"score\": 0.0}\n",
    "        \n",
    "        # 选择我们的最终答案：最佳答案或空答案（仅适用于squad_v2）\n",
    "        if not squad_v2:\n",
    "            predictions[example[\"id\"]] = best_answer[\"text\"]\n",
    "        else:\n",
    "            answer = best_answer[\"text\"] if best_answer[\"score\"] > min_null_score else \"\"\n",
    "            predictions[example[\"id\"]] = answer\n",
    "\n",
    "    return predictions\n"
   ]
  },
  {
   "cell_type": "markdown",
   "id": "db9ce83d-6317-4861-97f6-c9fd74ed1349",
   "metadata": {},
   "source": [
    "在原始结果上应用后处理问答结果："
   ]
  },
  {
   "cell_type": "code",
   "execution_count": 53,
   "id": "c71a1dae-3801-46c1-b952-f40dc5c3de3d",
   "metadata": {},
   "outputs": [
    {
     "name": "stdout",
     "output_type": "stream",
     "text": [
      "正在后处理 10570 个示例的预测，这些预测分散在 10784 个特征中。\n"
     ]
    },
    {
     "data": {
      "application/vnd.jupyter.widget-view+json": {
       "model_id": "b9fcc5ebf7d246008c7ec68f5806182c",
       "version_major": 2,
       "version_minor": 0
      },
      "text/plain": [
       "  0%|          | 0/10570 [00:00<?, ?it/s]"
      ]
     },
     "metadata": {},
     "output_type": "display_data"
    }
   ],
   "source": [
    "final_predictions = postprocess_qa_predictions(datasets[\"validation\"], validation_features, raw_predictions.predictions)"
   ]
  },
  {
   "cell_type": "markdown",
   "id": "05d30e8d-2550-40f4-95fc-b0a73d2a6f26",
   "metadata": {},
   "source": [
    "使用 `datasets.load_metric` 中加载 `SQuAD v2` 的评估指标"
   ]
  },
  {
   "cell_type": "code",
   "execution_count": 54,
   "id": "49eb15ea-49b3-4a2e-87e0-70bc81466057",
   "metadata": {},
   "outputs": [
    {
     "name": "stderr",
     "output_type": "stream",
     "text": [
      "/tmp/ipykernel_20254/2330875496.py:3: FutureWarning: load_metric is deprecated and will be removed in the next major version of datasets. Use 'evaluate.load' instead, from the new library 🤗 Evaluate: https://huggingface.co/docs/evaluate\n",
      "  metric = load_metric(\"squad_v2\" if squad_v2 else \"squad\")\n",
      "/root/miniconda3/lib/python3.11/site-packages/datasets/load.py:752: FutureWarning: The repository for squad contains custom code which must be executed to correctly load the metric. You can inspect the repository content at https://raw.githubusercontent.com/huggingface/datasets/2.16.1/metrics/squad/squad.py\n",
      "You can avoid this message in future by passing the argument `trust_remote_code=True`.\n",
      "Passing `trust_remote_code=True` will be mandatory to load this metric from the next major release of `datasets`.\n",
      "  warnings.warn(\n"
     ]
    },
    {
     "data": {
      "application/vnd.jupyter.widget-view+json": {
       "model_id": "c528a0f9cb2c4787b5c6ee2342fa1519",
       "version_major": 2,
       "version_minor": 0
      },
      "text/plain": [
       "Downloading builder script:   0%|          | 0.00/1.72k [00:00<?, ?B/s]"
      ]
     },
     "metadata": {},
     "output_type": "display_data"
    },
    {
     "data": {
      "application/vnd.jupyter.widget-view+json": {
       "model_id": "5f681da0b712486fad8521f4a7d532a8",
       "version_major": 2,
       "version_minor": 0
      },
      "text/plain": [
       "Downloading extra modules:   0%|          | 0.00/1.11k [00:00<?, ?B/s]"
      ]
     },
     "metadata": {},
     "output_type": "display_data"
    }
   ],
   "source": [
    "from datasets import load_metric\n",
    "\n",
    "metric = load_metric(\"squad_v2\" if squad_v2 else \"squad\")"
   ]
  },
  {
   "cell_type": "markdown",
   "id": "13ed2b1c-f375-4d59-9557-a29be3ad1db2",
   "metadata": {},
   "source": [
    "接下来，我们可以调用上面定义的函数进行评估。\n",
    "\n",
    "只需稍微调整一下预测和标签的格式，因为它期望的是一系列字典而不是一个大字典。\n",
    "\n",
    "在使用`squad_v2`数据集时，我们还需要设置`no_answer_probability`参数（我们在这里将其设置为0.0，因为如果我们选择了答案，我们已经将答案设置为空）。"
   ]
  },
  {
   "cell_type": "code",
   "execution_count": 55,
   "id": "6baff6e2-9f5f-4f05-ad41-1ab40296615b",
   "metadata": {},
   "outputs": [
    {
     "data": {
      "text/plain": [
       "{'exact_match': 74.88174077578051, 'f1': 83.6359321422016}"
      ]
     },
     "execution_count": 55,
     "metadata": {},
     "output_type": "execute_result"
    }
   ],
   "source": [
    "if squad_v2:\n",
    "    formatted_predictions = [{\"id\": k, \"prediction_text\": v, \"no_answer_probability\": 0.0} for k, v in final_predictions.items()]\n",
    "else:\n",
    "    formatted_predictions = [{\"id\": k, \"prediction_text\": v} for k, v in final_predictions.items()]\n",
    "references = [{\"id\": ex[\"id\"], \"answers\": ex[\"answers\"]} for ex in datasets[\"validation\"]]\n",
    "metric.compute(predictions=formatted_predictions, references=references)"
   ]
  },
  {
   "cell_type": "code",
   "execution_count": null,
   "id": "83299c87-1a7b-490a-9907-5f9717d91684",
   "metadata": {},
   "outputs": [],
   "source": []
  },
  {
   "cell_type": "markdown",
   "id": "01cee07c-ecf2-486a-ac60-2fbd06446caf",
   "metadata": {},
   "source": [
    "### Homework：加载本地保存的模型，进行评估和再训练更高的 F1 Score"
   ]
  },
  {
   "cell_type": "code",
   "execution_count": 50,
   "id": "a02cd8a7-b0aa-4214-b5a0-8f00c01cffe9",
   "metadata": {},
   "outputs": [],
   "source": [
    "trained_model = AutoModelForQuestionAnswering.from_pretrained(model_dir)"
   ]
  },
  {
   "cell_type": "code",
   "execution_count": 51,
   "id": "fbc5eb67-ab0f-4da1-8307-d1bc752fcbb7",
   "metadata": {},
   "outputs": [
    {
     "name": "stderr",
     "output_type": "stream",
     "text": [
      "Detected kernel version 4.4.0, which is below the recommended minimum of 5.5.0; this can cause the process to hang. It is recommended to upgrade the kernel to the minimum version or higher.\n"
     ]
    }
   ],
   "source": [
    "trained_trainer = Trainer(\n",
    "    trained_model,\n",
    "    args,\n",
    "    train_dataset=tokenized_datasets[\"train\"],\n",
    "    eval_dataset=tokenized_datasets[\"validation\"],\n",
    "    data_collator=data_collator,\n",
    "    tokenizer=tokenizer,\n",
    ")"
   ]
  },
  {
   "cell_type": "code",
   "execution_count": null,
   "id": "53e14746-1383-4fda-a164-5a0f8f3de6ab",
   "metadata": {},
   "outputs": [],
   "source": []
  }
 ],
 "metadata": {
  "kernelspec": {
   "display_name": "Python 3 (ipykernel)",
   "language": "python",
   "name": "python3"
  },
  "language_info": {
   "codemirror_mode": {
    "name": "ipython",
    "version": 3
   },
   "file_extension": ".py",
   "mimetype": "text/x-python",
   "name": "python",
   "nbconvert_exporter": "python",
   "pygments_lexer": "ipython3",
   "version": "3.10.13"
  }
 },
 "nbformat": 4,
 "nbformat_minor": 5
}
