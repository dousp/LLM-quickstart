{
 "cells": [
  {
   "cell_type": "markdown",
   "id": "1d60066a-51b4-4303-89e7-de95660d5501",
   "metadata": {},
   "source": [
    "# 版本检查"
   ]
  },
  {
   "cell_type": "markdown",
   "id": "66a44539-e78e-482b-b921-ebc5e62ff84b",
   "metadata": {},
   "source": [
    "## torch"
   ]
  },
  {
   "cell_type": "code",
   "execution_count": 4,
   "id": "1d085828-fdb6-4b55-98a3-952131252bcf",
   "metadata": {
    "ExecutionIndicator": {
     "show": true
    },
    "execution": {
     "iopub.execute_input": "2024-02-16T07:03:06.201352Z",
     "iopub.status.busy": "2024-02-16T07:03:06.200983Z",
     "iopub.status.idle": "2024-02-16T07:03:06.205050Z",
     "shell.execute_reply": "2024-02-16T07:03:06.204543Z",
     "shell.execute_reply.started": "2024-02-16T07:03:06.201320Z"
    },
    "tags": []
   },
   "outputs": [
    {
     "name": "stdout",
     "output_type": "stream",
     "text": [
      "2.1.2+cu121\n",
      "True\n",
      "1\n",
      "12.1\n"
     ]
    }
   ],
   "source": [
    "import torch\n",
    "print(torch.__version__) # 查看版本\n",
    "print(torch.cuda.is_available()) # 查看CUDA是否可用\n",
    "print(torch.cuda.device_count()) # 查看可用的CUDA数量\n",
    "print(torch.version.cuda) # 查看CUDA的版本号"
   ]
  },
  {
   "cell_type": "markdown",
   "id": "3c1b8306-bfb7-47b3-a54c-a0a0fd4999d9",
   "metadata": {},
   "source": [
    "## 其他版本"
   ]
  },
  {
   "cell_type": "code",
   "execution_count": 6,
   "id": "6156260f-05af-47f4-a9d3-0355347366bb",
   "metadata": {
    "execution": {
     "iopub.execute_input": "2024-02-16T07:13:50.037838Z",
     "iopub.status.busy": "2024-02-16T07:13:50.037471Z",
     "iopub.status.idle": "2024-02-16T07:13:50.734504Z",
     "shell.execute_reply": "2024-02-16T07:13:50.733841Z",
     "shell.execute_reply.started": "2024-02-16T07:13:50.037815Z"
    },
    "tags": []
   },
   "outputs": [
    {
     "name": "stdout",
     "output_type": "stream",
     "text": [
      "Python 3.10.13\n",
      "conda 23.9.0\n"
     ]
    }
   ],
   "source": [
    "!python --version\n",
    "!conda --version"
   ]
  },
  {
   "cell_type": "markdown",
   "id": "3060d3cd-3c01-4a0e-80ca-5bc8da63f01e",
   "metadata": {},
   "source": [
    "## GPU型号"
   ]
  },
  {
   "cell_type": "code",
   "execution_count": 7,
   "id": "4e9b23c6-405d-4287-97ba-154b382d1dbe",
   "metadata": {
    "ExecutionIndicator": {
     "show": true
    },
    "execution": {
     "iopub.execute_input": "2024-02-16T07:15:02.615182Z",
     "iopub.status.busy": "2024-02-16T07:15:02.614802Z",
     "iopub.status.idle": "2024-02-16T07:15:02.824550Z",
     "shell.execute_reply": "2024-02-16T07:15:02.823867Z",
     "shell.execute_reply.started": "2024-02-16T07:15:02.615155Z"
    },
    "tags": []
   },
   "outputs": [
    {
     "name": "stdout",
     "output_type": "stream",
     "text": [
      "GPU 0: NVIDIA A10 (UUID: GPU-4209b8d5-5238-3356-49d5-d4f4cb03475a)\n"
     ]
    }
   ],
   "source": [
    "!nvidia-smi -L # 查看GPU型号"
   ]
  },
  {
   "cell_type": "markdown",
   "id": "e89bd778-542f-4dc9-b14d-9af6bfff1dff",
   "metadata": {},
   "source": [
    "## 其他安装"
   ]
  },
  {
   "cell_type": "code",
   "execution_count": null,
   "id": "b51ccda1-5a61-442c-9344-90e09553e570",
   "metadata": {},
   "outputs": [],
   "source": [
    "!conda install -c huggingface -c conda-forge evaluate -y"
   ]
  },
  {
   "cell_type": "code",
   "execution_count": null,
   "id": "4dfb19ee-fe67-4ff9-9c4b-99fdd45ac692",
   "metadata": {},
   "outputs": [],
   "source": [
    "!pip install ipywidgets numpy accuracy"
   ]
  },
  {
   "cell_type": "code",
   "execution_count": null,
   "id": "113f8718-53a3-4b5b-8e19-31942498dbd4",
   "metadata": {},
   "outputs": [],
   "source": [
    "!pip install -U huggingface_hub"
   ]
  },
  {
   "cell_type": "code",
   "execution_count": 9,
   "id": "9054e05c-509d-4703-afa1-524b8104111a",
   "metadata": {
    "ExecutionIndicator": {
     "show": true
    },
    "execution": {
     "iopub.execute_input": "2024-02-16T07:34:13.696365Z",
     "iopub.status.busy": "2024-02-16T07:34:13.695774Z",
     "iopub.status.idle": "2024-02-16T07:34:13.897623Z",
     "shell.execute_reply": "2024-02-16T07:34:13.896946Z",
     "shell.execute_reply.started": "2024-02-16T07:34:13.696341Z"
    },
    "tags": []
   },
   "outputs": [],
   "source": [
    "!export HF_ENDPOINT=https://hf-mirror.com"
   ]
  },
  {
   "cell_type": "markdown",
   "id": "34f4b5d6-0752-467f-93e1-85034301748f",
   "metadata": {},
   "source": [
    "## 下载数据集"
   ]
  },
  {
   "cell_type": "code",
   "execution_count": 14,
   "id": "a30d58e5-e420-4d98-9b28-8db8169ec040",
   "metadata": {
    "ExecutionIndicator": {
     "show": true
    },
    "execution": {
     "iopub.execute_input": "2024-02-16T08:04:03.877809Z",
     "iopub.status.busy": "2024-02-16T08:04:03.877457Z",
     "iopub.status.idle": "2024-02-16T08:04:03.881133Z",
     "shell.execute_reply": "2024-02-16T08:04:03.880614Z",
     "shell.execute_reply.started": "2024-02-16T08:04:03.877787Z"
    },
    "tags": []
   },
   "outputs": [],
   "source": [
    "import os\n",
    "os.environ['HF_ENDPOINT'] = 'https://hf-mirror.com'\n",
    "\n",
    "from huggingface_hub import snapshot_download\n",
    "\n",
    "# token 从 https://huggingface.co/settings/tokens 获取\n",
    "# huggingface_hub.login(\"HF_TOKEN\")\n",
    "\n",
    "model_dir=\"/mnt/workspace/model\"\n",
    "dataset_dir=\"/mnt/workspace/dataset\"\n",
    "\n"
   ]
  },
  {
   "cell_type": "markdown",
   "id": "098c7540-068f-439e-8be0-20bddee0ff6e",
   "metadata": {
    "tags": []
   },
   "source": [
    "### 模型下载"
   ]
  },
  {
   "cell_type": "code",
   "execution_count": null,
   "id": "0fb3f9ba-bc03-4e16-b4a9-194f8cf81951",
   "metadata": {},
   "outputs": [],
   "source": [
    "snapshot_download(\n",
    "  repo_type=\"model\",  # 可选 [dataset,model] \n",
    "  repo_id=\"yelp_review_full\",\n",
    "  local_dir=model_dir,\n",
    "  # allow_patterns=\"*.json\",\n",
    "  ignore_patterns=[\"*.msgpack\", \"*.h5\"],\n",
    "  # proxies={\"https\": \"http://localhost:7890\"},\n",
    "  resume_download=True, # 断点续传\n",
    "  local_dir_use_symlinks=False,\n",
    "  max_workers=8\n",
    ")"
   ]
  },
  {
   "cell_type": "markdown",
   "id": "52825f1e-d702-4f9c-8ab8-2b3a08c60859",
   "metadata": {
    "tags": []
   },
   "source": [
    "### 数据集下载"
   ]
  },
  {
   "cell_type": "code",
   "execution_count": null,
   "id": "c4882678-fc67-487a-925a-55c483f1134b",
   "metadata": {
    "tags": []
   },
   "outputs": [],
   "source": [
    "snapshot_download(\n",
    "  repo_type=\"dataset\",  # 可选 [dataset,model] \n",
    "  repo_id=\"yelp_review_full\",\n",
    "  local_dir=dataset_dir,\n",
    "  # allow_patterns=\"*.json\",\n",
    "  ignore_patterns=[\"*.msgpack\", \"*.h5\"],\n",
    "  # proxies={\"https\": \"http://localhost:7890\"},\n",
    "  resume_download=True, # 断点续传\n",
    "  local_dir_use_symlinks=False,\n",
    "  max_workers=8\n",
    ")"
   ]
  }
 ],
 "metadata": {
  "kernelspec": {
   "display_name": "Python 3 (ipykernel)",
   "language": "python",
   "name": "python3"
  },
  "language_info": {
   "codemirror_mode": {
    "name": "ipython",
    "version": 3
   },
   "file_extension": ".py",
   "mimetype": "text/x-python",
   "name": "python",
   "nbconvert_exporter": "python",
   "pygments_lexer": "ipython3",
   "version": "3.10.13"
  }
 },
 "nbformat": 4,
 "nbformat_minor": 5
}
